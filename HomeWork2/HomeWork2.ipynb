{
  "cells": [
    {
      "cell_type": "code",
      "execution_count": 3,
      "id": "c3195057-e8c3-45fd-8537-72ec9df8dd0e",
      "metadata": {
        "id": "c3195057-e8c3-45fd-8537-72ec9df8dd0e"
      },
      "outputs": [],
      "source": [
        "import pandas as pd\n",
        "import numpy as np\n",
        "\n",
        "url= \"https://home.sis.siam.edu/registrar/student_inclass_all.asp?backto=teach_time&option=1&classid=208411&courseid=15336&acadyear=2564&semester=2&normalURL=f%5Fcmd%3D2%26officercode%3D53113029%26officerid%3D20710%26officername%3D%25BC%25C8%252E%25B4%25C3%252E%2B%25B7%25D1%25C8%25B9%25D1%25C2%2B%25BE%25C5%25CD%25C2%25CA%25D8%25C7%25C3%25C3%25B3%26acadyear%3D2564%26rnd%3D44591%2E3098842593%26firstday%3D23%2F1%2F2565%26semester%3D2&avs649958683=11\"\n",
        "List = pd.read_html(url)\n",
        "\n",
        "df = List[3]\n",
        "df =  df.loc[3:,0:2].reset_index( drop = True).drop(0,axis=1)\n",
        "df0= df.rename(columns={1:'id',2:'Name'})\n",
        "df0['id']= df0['id'].astype('string')"
      ]
    },
    {
      "cell_type": "code",
      "execution_count": 4,
      "id": "df1ce453-497e-4f91-87ff-48466e93e745",
      "metadata": {
        "id": "df1ce453-497e-4f91-87ff-48466e93e745",
        "outputId": "83ca8bd5-410c-40fe-cf0a-6def1d3a8481",
        "colab": {
          "base_uri": "https://localhost:8080/",
          "height": 331
        }
      },
      "outputs": [
        {
          "output_type": "execute_result",
          "data": {
            "text/html": [
              "\n",
              "  <div id=\"df-da53f493-0eb3-4027-8b68-932a98340766\">\n",
              "    <div class=\"colab-df-container\">\n",
              "      <div>\n",
              "<style scoped>\n",
              "    .dataframe tbody tr th:only-of-type {\n",
              "        vertical-align: middle;\n",
              "    }\n",
              "\n",
              "    .dataframe tbody tr th {\n",
              "        vertical-align: top;\n",
              "    }\n",
              "\n",
              "    .dataframe thead th {\n",
              "        text-align: right;\n",
              "    }\n",
              "</style>\n",
              "<table border=\"1\" class=\"dataframe\">\n",
              "  <thead>\n",
              "    <tr style=\"text-align: right;\">\n",
              "      <th></th>\n",
              "      <th>id</th>\n",
              "      <th>Name</th>\n",
              "      <th>a</th>\n",
              "      <th>b</th>\n",
              "      <th>c</th>\n",
              "      <th>d</th>\n",
              "      <th>e</th>\n",
              "      <th>f</th>\n",
              "    </tr>\n",
              "  </thead>\n",
              "  <tbody>\n",
              "    <tr>\n",
              "      <th>0</th>\n",
              "      <td>6004200004</td>\n",
              "      <td>นายเนติธร บัวรอด</td>\n",
              "      <td>248</td>\n",
              "      <td>490</td>\n",
              "      <td>79</td>\n",
              "      <td>274</td>\n",
              "      <td>159</td>\n",
              "      <td>466</td>\n",
              "    </tr>\n",
              "    <tr>\n",
              "      <th>1</th>\n",
              "      <td>6004200006</td>\n",
              "      <td>นายกิตติธัช สาสนะ</td>\n",
              "      <td>440</td>\n",
              "      <td>122</td>\n",
              "      <td>119</td>\n",
              "      <td>373</td>\n",
              "      <td>59</td>\n",
              "      <td>413</td>\n",
              "    </tr>\n",
              "    <tr>\n",
              "      <th>2</th>\n",
              "      <td>6204200004</td>\n",
              "      <td>นายธนรัช นภาอำไพพร</td>\n",
              "      <td>166</td>\n",
              "      <td>155</td>\n",
              "      <td>405</td>\n",
              "      <td>382</td>\n",
              "      <td>81</td>\n",
              "      <td>7</td>\n",
              "    </tr>\n",
              "    <tr>\n",
              "      <th>3</th>\n",
              "      <td>6204200014</td>\n",
              "      <td>นายอนวัช สมปอง</td>\n",
              "      <td>27</td>\n",
              "      <td>258</td>\n",
              "      <td>458</td>\n",
              "      <td>457</td>\n",
              "      <td>486</td>\n",
              "      <td>29</td>\n",
              "    </tr>\n",
              "    <tr>\n",
              "      <th>4</th>\n",
              "      <td>6223220004</td>\n",
              "      <td>นายนนทวัฒน์ บุญเป็ง</td>\n",
              "      <td>389</td>\n",
              "      <td>297</td>\n",
              "      <td>207</td>\n",
              "      <td>420</td>\n",
              "      <td>408</td>\n",
              "      <td>161</td>\n",
              "    </tr>\n",
              "    <tr>\n",
              "      <th>5</th>\n",
              "      <td>6321200001</td>\n",
              "      <td>นายธนวัฒน์ สุขใส</td>\n",
              "      <td>99</td>\n",
              "      <td>160</td>\n",
              "      <td>317</td>\n",
              "      <td>444</td>\n",
              "      <td>150</td>\n",
              "      <td>226</td>\n",
              "    </tr>\n",
              "    <tr>\n",
              "      <th>6</th>\n",
              "      <td>6321200004</td>\n",
              "      <td>นายสกุลเกียรติ รุจิพงษ์</td>\n",
              "      <td>281</td>\n",
              "      <td>218</td>\n",
              "      <td>302</td>\n",
              "      <td>22</td>\n",
              "      <td>195</td>\n",
              "      <td>14</td>\n",
              "    </tr>\n",
              "    <tr>\n",
              "      <th>7</th>\n",
              "      <td>6321200006</td>\n",
              "      <td>นายปิยะพงษ์ อุ้ยพรมมา</td>\n",
              "      <td>205</td>\n",
              "      <td>363</td>\n",
              "      <td>317</td>\n",
              "      <td>23</td>\n",
              "      <td>292</td>\n",
              "      <td>44</td>\n",
              "    </tr>\n",
              "    <tr>\n",
              "      <th>8</th>\n",
              "      <td>6324220002</td>\n",
              "      <td>นางสาวมนปพร ชัยวาณิชยา</td>\n",
              "      <td>262</td>\n",
              "      <td>466</td>\n",
              "      <td>214</td>\n",
              "      <td>88</td>\n",
              "      <td>374</td>\n",
              "      <td>469</td>\n",
              "    </tr>\n",
              "  </tbody>\n",
              "</table>\n",
              "</div>\n",
              "      <button class=\"colab-df-convert\" onclick=\"convertToInteractive('df-da53f493-0eb3-4027-8b68-932a98340766')\"\n",
              "              title=\"Convert this dataframe to an interactive table.\"\n",
              "              style=\"display:none;\">\n",
              "        \n",
              "  <svg xmlns=\"http://www.w3.org/2000/svg\" height=\"24px\"viewBox=\"0 0 24 24\"\n",
              "       width=\"24px\">\n",
              "    <path d=\"M0 0h24v24H0V0z\" fill=\"none\"/>\n",
              "    <path d=\"M18.56 5.44l.94 2.06.94-2.06 2.06-.94-2.06-.94-.94-2.06-.94 2.06-2.06.94zm-11 1L8.5 8.5l.94-2.06 2.06-.94-2.06-.94L8.5 2.5l-.94 2.06-2.06.94zm10 10l.94 2.06.94-2.06 2.06-.94-2.06-.94-.94-2.06-.94 2.06-2.06.94z\"/><path d=\"M17.41 7.96l-1.37-1.37c-.4-.4-.92-.59-1.43-.59-.52 0-1.04.2-1.43.59L10.3 9.45l-7.72 7.72c-.78.78-.78 2.05 0 2.83L4 21.41c.39.39.9.59 1.41.59.51 0 1.02-.2 1.41-.59l7.78-7.78 2.81-2.81c.8-.78.8-2.07 0-2.86zM5.41 20L4 18.59l7.72-7.72 1.47 1.35L5.41 20z\"/>\n",
              "  </svg>\n",
              "      </button>\n",
              "      \n",
              "  <style>\n",
              "    .colab-df-container {\n",
              "      display:flex;\n",
              "      flex-wrap:wrap;\n",
              "      gap: 12px;\n",
              "    }\n",
              "\n",
              "    .colab-df-convert {\n",
              "      background-color: #E8F0FE;\n",
              "      border: none;\n",
              "      border-radius: 50%;\n",
              "      cursor: pointer;\n",
              "      display: none;\n",
              "      fill: #1967D2;\n",
              "      height: 32px;\n",
              "      padding: 0 0 0 0;\n",
              "      width: 32px;\n",
              "    }\n",
              "\n",
              "    .colab-df-convert:hover {\n",
              "      background-color: #E2EBFA;\n",
              "      box-shadow: 0px 1px 2px rgba(60, 64, 67, 0.3), 0px 1px 3px 1px rgba(60, 64, 67, 0.15);\n",
              "      fill: #174EA6;\n",
              "    }\n",
              "\n",
              "    [theme=dark] .colab-df-convert {\n",
              "      background-color: #3B4455;\n",
              "      fill: #D2E3FC;\n",
              "    }\n",
              "\n",
              "    [theme=dark] .colab-df-convert:hover {\n",
              "      background-color: #434B5C;\n",
              "      box-shadow: 0px 1px 3px 1px rgba(0, 0, 0, 0.15);\n",
              "      filter: drop-shadow(0px 1px 2px rgba(0, 0, 0, 0.3));\n",
              "      fill: #FFFFFF;\n",
              "    }\n",
              "  </style>\n",
              "\n",
              "      <script>\n",
              "        const buttonEl =\n",
              "          document.querySelector('#df-da53f493-0eb3-4027-8b68-932a98340766 button.colab-df-convert');\n",
              "        buttonEl.style.display =\n",
              "          google.colab.kernel.accessAllowed ? 'block' : 'none';\n",
              "\n",
              "        async function convertToInteractive(key) {\n",
              "          const element = document.querySelector('#df-da53f493-0eb3-4027-8b68-932a98340766');\n",
              "          const dataTable =\n",
              "            await google.colab.kernel.invokeFunction('convertToInteractive',\n",
              "                                                     [key], {});\n",
              "          if (!dataTable) return;\n",
              "\n",
              "          const docLinkHtml = 'Like what you see? Visit the ' +\n",
              "            '<a target=\"_blank\" href=https://colab.research.google.com/notebooks/data_table.ipynb>data table notebook</a>'\n",
              "            + ' to learn more about interactive tables.';\n",
              "          element.innerHTML = '';\n",
              "          dataTable['output_type'] = 'display_data';\n",
              "          await google.colab.output.renderOutput(dataTable, element);\n",
              "          const docLink = document.createElement('div');\n",
              "          docLink.innerHTML = docLinkHtml;\n",
              "          element.appendChild(docLink);\n",
              "        }\n",
              "      </script>\n",
              "    </div>\n",
              "  </div>\n",
              "  "
            ],
            "text/plain": [
              "           id                     Name    a    b    c    d    e    f\n",
              "0  6004200004         นายเนติธร บัวรอด  248  490   79  274  159  466\n",
              "1  6004200006        นายกิตติธัช สาสนะ  440  122  119  373   59  413\n",
              "2  6204200004       นายธนรัช นภาอำไพพร  166  155  405  382   81    7\n",
              "3  6204200014           นายอนวัช สมปอง   27  258  458  457  486   29\n",
              "4  6223220004      นายนนทวัฒน์ บุญเป็ง  389  297  207  420  408  161\n",
              "5  6321200001         นายธนวัฒน์ สุขใส   99  160  317  444  150  226\n",
              "6  6321200004  นายสกุลเกียรติ รุจิพงษ์  281  218  302   22  195   14\n",
              "7  6321200006    นายปิยะพงษ์ อุ้ยพรมมา  205  363  317   23  292   44\n",
              "8  6324220002   นางสาวมนปพร ชัยวาณิชยา  262  466  214   88  374  469"
            ]
          },
          "metadata": {},
          "execution_count": 4
        }
      ],
      "source": [
        "df       = df0.copy()\n",
        "df['a'] = df0['id'].apply(lambda x: np.random.randint(500) )\n",
        "df['b'] = df0['id'].apply(lambda x: np.random.randint(500) )\n",
        "df['c'] = df0['id'].apply(lambda x: np.random.randint(500) )\n",
        "df['d'] = df0['id'].apply(lambda x: np.random.randint(500) )\n",
        "df['e'] = df0['id'].apply(lambda x: np.random.randint(500) )\n",
        "df['f'] = df0['id'].apply(lambda x: np.random.randint(500) )\n",
        "\n",
        "df"
      ]
    },
    {
      "cell_type": "markdown",
      "id": "b38d9a19-dd3c-47af-aa7d-c58f84cd2fdc",
      "metadata": {
        "id": "b38d9a19-dd3c-47af-aa7d-c58f84cd2fdc"
      },
      "source": [
        "# ช้อ 1 . จงหาฟังก์ชั่นถ่ายโอนรวมของระบบ $ H(s) $ โดยการเขียนโปรแกรม Python\n",
        "\n",
        "# ![1](https://raw.githubusercontent.com/Tuchsanai/152-333-Electrical-Engineering-Laboratory-3/master/HomeWork2/data1.png)\n",
        "\n",
        "\n",
        "# ${G_1} = \\frac{{s - a}}{{{s^5} - cs + 7}}$  ${G_2} = \\frac{{ - f{s^2} - 10}}{{2{s^5} - cs - 3}}$  ${G_3} = \\frac{s}{{2{s^4} - 3}}$  ${G_4} = \\frac{s}{{2{cs^2} - 3s-7}}$\n"
      ]
    },
    {
      "cell_type": "code",
      "execution_count": null,
      "id": "936e18eb-8f0b-4a62-9205-e742af3a84ad",
      "metadata": {
        "id": "936e18eb-8f0b-4a62-9205-e742af3a84ad"
      },
      "outputs": [],
      "source": [
        ""
      ]
    },
    {
      "cell_type": "code",
      "execution_count": null,
      "id": "5120d327-0b27-4512-bab9-062bda0239d1",
      "metadata": {
        "id": "5120d327-0b27-4512-bab9-062bda0239d1"
      },
      "outputs": [],
      "source": [
        ""
      ]
    },
    {
      "cell_type": "code",
      "execution_count": null,
      "id": "57361eea-c206-43ba-8c23-32955675ca76",
      "metadata": {
        "id": "57361eea-c206-43ba-8c23-32955675ca76"
      },
      "outputs": [],
      "source": [
        ""
      ]
    },
    {
      "cell_type": "markdown",
      "id": "ce60cbeb-4c54-4f19-9991-91d8879265b8",
      "metadata": {
        "id": "ce60cbeb-4c54-4f19-9991-91d8879265b8"
      },
      "source": [
        "# ข้อ 2.  จงทำการ Plot : Impulse response และ Frequency Response ของ  \n",
        "# $ H{(s)} = \\frac{{s - a}}{{{s^5} - cs + 7}}$"
      ]
    },
    {
      "cell_type": "code",
      "execution_count": null,
      "id": "e7653a9c-523a-4573-b7b5-a59ac3640241",
      "metadata": {
        "id": "e7653a9c-523a-4573-b7b5-a59ac3640241"
      },
      "outputs": [],
      "source": [
        ""
      ]
    },
    {
      "cell_type": "code",
      "execution_count": null,
      "id": "0ba8032b-01a2-49de-ace2-e6fa2587a554",
      "metadata": {
        "id": "0ba8032b-01a2-49de-ace2-e6fa2587a554"
      },
      "outputs": [],
      "source": [
        ""
      ]
    },
    {
      "cell_type": "code",
      "execution_count": null,
      "id": "e30491f6-bfe9-4d5f-8c0b-e9f49ccc0c5c",
      "metadata": {
        "id": "e30491f6-bfe9-4d5f-8c0b-e9f49ccc0c5c"
      },
      "outputs": [],
      "source": [
        ""
      ]
    },
    {
      "cell_type": "code",
      "execution_count": null,
      "id": "17eabf9e-564b-4c2f-8811-ae3fa8830ca5",
      "metadata": {
        "id": "17eabf9e-564b-4c2f-8811-ae3fa8830ca5"
      },
      "outputs": [],
      "source": [
        ""
      ]
    },
    {
      "cell_type": "code",
      "execution_count": null,
      "id": "15398ee9-7701-4823-b88c-7a9cf47089f9",
      "metadata": {
        "id": "15398ee9-7701-4823-b88c-7a9cf47089f9"
      },
      "outputs": [],
      "source": [
        ""
      ]
    }
  ],
  "metadata": {
    "kernelspec": {
      "display_name": "Python 3",
      "language": "python",
      "name": "python3"
    },
    "language_info": {
      "codemirror_mode": {
        "name": "ipython",
        "version": 3
      },
      "file_extension": ".py",
      "mimetype": "text/x-python",
      "name": "python",
      "nbconvert_exporter": "python",
      "pygments_lexer": "ipython3",
      "version": "3.8.5"
    },
    "colab": {
      "name": "HomeWork2.ipynb",
      "provenance": []
    }
  },
  "nbformat": 4,
  "nbformat_minor": 5
}