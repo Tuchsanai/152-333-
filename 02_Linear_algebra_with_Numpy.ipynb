{
 "cells": [
  {
   "cell_type": "markdown",
   "metadata": {
    "colab_type": "text",
    "id": "Yk9Jfr-nT0fx"
   },
   "source": [
    "# 152-333\tElectrical Engineering Laboratory 3 \n",
    "#ปฏิบัติการทางวิศวกรรมไฟฟ้า 3"
   ]
  },
  {
   "cell_type": "code",
   "execution_count": 1,
   "metadata": {
    "colab": {},
    "colab_type": "code",
    "id": "aTKPk9jyI6sM"
   },
   "outputs": [],
   "source": [
    "import numpy as np"
   ]
  },
  {
   "cell_type": "markdown",
   "metadata": {
    "colab_type": "text",
    "id": "tNThBHdsI6sP"
   },
   "source": [
    "# Now we can define $A$:"
   ]
  },
  {
   "cell_type": "code",
   "execution_count": 2,
   "metadata": {
    "colab": {},
    "colab_type": "code",
    "id": "sagxZBviI6sP"
   },
   "outputs": [],
   "source": [
    "A = np.matrix([[5, 6, 2],\n",
    "               [4, 7, 19],\n",
    "               [0, 3, 12]])"
   ]
  },
  {
   "cell_type": "code",
   "execution_count": 3,
   "metadata": {
    "colab": {
     "base_uri": "https://localhost:8080/",
     "height": 68
    },
    "colab_type": "code",
    "executionInfo": {
     "elapsed": 574,
     "status": "ok",
     "timestamp": 1594282971551,
     "user": {
      "displayName": "Tuchsanai Ploysuwan",
      "photoUrl": "",
      "userId": "05962105649382616878"
     },
     "user_tz": -420
    },
    "id": "3Inw37l5I6sS",
    "outputId": "08b11161-5336-4199-866c-992e7625fcc7"
   },
   "outputs": [
    {
     "data": {
      "text/plain": [
       "matrix([[ 5,  6,  2],\n",
       "        [ 4,  7, 19],\n",
       "        [ 0,  3, 12]])"
      ]
     },
     "execution_count": 3,
     "metadata": {},
     "output_type": "execute_result"
    }
   ],
   "source": [
    "A"
   ]
  },
  {
   "cell_type": "code",
   "execution_count": 4,
   "metadata": {
    "colab": {
     "base_uri": "https://localhost:8080/",
     "height": 34
    },
    "colab_type": "code",
    "executionInfo": {
     "elapsed": 1025,
     "status": "ok",
     "timestamp": 1594282973401,
     "user": {
      "displayName": "Tuchsanai Ploysuwan",
      "photoUrl": "",
      "userId": "05962105649382616878"
     },
     "user_tz": -420
    },
    "id": "1knEvwStj0ZX",
    "outputId": "a8a0c5fa-cd2a-4720-d92e-ad0db6549022"
   },
   "outputs": [
    {
     "data": {
      "text/plain": [
       "(3, 3)"
      ]
     },
     "execution_count": 4,
     "metadata": {},
     "output_type": "execute_result"
    }
   ],
   "source": [
    "A.shape"
   ]
  },
  {
   "cell_type": "code",
   "execution_count": 5,
   "metadata": {
    "colab": {},
    "colab_type": "code",
    "id": "CdfPimoxI6sU"
   },
   "outputs": [],
   "source": [
    "B = np.matrix([[14, -2, 12],\n",
    "               [4, 4, 5],\n",
    "               [5, 5, 1]])"
   ]
  },
  {
   "cell_type": "code",
   "execution_count": 6,
   "metadata": {
    "colab": {
     "base_uri": "https://localhost:8080/",
     "height": 34
    },
    "colab_type": "code",
    "executionInfo": {
     "elapsed": 827,
     "status": "ok",
     "timestamp": 1594282975787,
     "user": {
      "displayName": "Tuchsanai Ploysuwan",
      "photoUrl": "",
      "userId": "05962105649382616878"
     },
     "user_tz": -420
    },
    "id": "ris4ikiuj3j5",
    "outputId": "fa41f8b9-6e6f-4cff-940d-b8a50dfe9001"
   },
   "outputs": [
    {
     "data": {
      "text/plain": [
       "(3, 3)"
      ]
     },
     "execution_count": 6,
     "metadata": {},
     "output_type": "execute_result"
    }
   ],
   "source": [
    "B.shape"
   ]
  },
  {
   "cell_type": "code",
   "execution_count": 7,
   "metadata": {
    "colab": {
     "base_uri": "https://localhost:8080/",
     "height": 68
    },
    "colab_type": "code",
    "executionInfo": {
     "elapsed": 1362,
     "status": "ok",
     "timestamp": 1594116925430,
     "user": {
      "displayName": "Tuchsanai Ploysuwan",
      "photoUrl": "",
      "userId": "05962105649382616878"
     },
     "user_tz": -420
    },
    "id": "uqzkoCfeI6sW",
    "outputId": "989ee0f9-414a-42a7-a591-1881787b0f80"
   },
   "outputs": [
    {
     "data": {
      "text/plain": [
       "matrix([[14, -2, 12],\n",
       "        [ 4,  4,  5],\n",
       "        [ 5,  5,  1]])"
      ]
     },
     "execution_count": 7,
     "metadata": {},
     "output_type": "execute_result"
    }
   ],
   "source": [
    "B"
   ]
  },
  {
   "cell_type": "code",
   "execution_count": 8,
   "metadata": {
    "colab": {
     "base_uri": "https://localhost:8080/",
     "height": 34
    },
    "colab_type": "code",
    "executionInfo": {
     "elapsed": 857,
     "status": "ok",
     "timestamp": 1594282982167,
     "user": {
      "displayName": "Tuchsanai Ploysuwan",
      "photoUrl": "",
      "userId": "05962105649382616878"
     },
     "user_tz": -420
    },
    "id": "pwiyeB-qjtPz",
    "outputId": "a589db0f-56c6-40ef-9fb4-ed69929a04e4"
   },
   "outputs": [
    {
     "data": {
      "text/plain": [
       "array([1, 5, 7])"
      ]
     },
     "execution_count": 8,
     "metadata": {},
     "output_type": "execute_result"
    }
   ],
   "source": [
    "C = np.array([1,5,7])\n",
    "C"
   ]
  },
  {
   "cell_type": "code",
   "execution_count": 9,
   "metadata": {
    "colab": {
     "base_uri": "https://localhost:8080/",
     "height": 34
    },
    "colab_type": "code",
    "executionInfo": {
     "elapsed": 572,
     "status": "ok",
     "timestamp": 1594282982483,
     "user": {
      "displayName": "Tuchsanai Ploysuwan",
      "photoUrl": "",
      "userId": "05962105649382616878"
     },
     "user_tz": -420
    },
    "id": "w74Hz1SEj6Zd",
    "outputId": "c8f93030-b77b-43dc-82e3-03e910899557"
   },
   "outputs": [
    {
     "data": {
      "text/plain": [
       "(3,)"
      ]
     },
     "execution_count": 9,
     "metadata": {},
     "output_type": "execute_result"
    }
   ],
   "source": [
    "C.shape"
   ]
  },
  {
   "cell_type": "code",
   "execution_count": 10,
   "metadata": {
    "colab": {
     "base_uri": "https://localhost:8080/",
     "height": 68
    },
    "colab_type": "code",
    "executionInfo": {
     "elapsed": 870,
     "status": "ok",
     "timestamp": 1594282983800,
     "user": {
      "displayName": "Tuchsanai Ploysuwan",
      "photoUrl": "",
      "userId": "05962105649382616878"
     },
     "user_tz": -420
    },
    "id": "oP1dgGssj-LO",
    "outputId": "0cb7393b-065b-4144-b8f2-7d75524a590f"
   },
   "outputs": [
    {
     "data": {
      "text/plain": [
       "array([[1],\n",
       "       [5],\n",
       "       [7]])"
      ]
     },
     "execution_count": 10,
     "metadata": {},
     "output_type": "execute_result"
    }
   ],
   "source": [
    "C = np.array([1,5,7]).reshape(3,1)\n",
    "C"
   ]
  },
  {
   "cell_type": "code",
   "execution_count": 11,
   "metadata": {
    "colab": {
     "base_uri": "https://localhost:8080/",
     "height": 34
    },
    "colab_type": "code",
    "executionInfo": {
     "elapsed": 896,
     "status": "ok",
     "timestamp": 1594282985316,
     "user": {
      "displayName": "Tuchsanai Ploysuwan",
      "photoUrl": "",
      "userId": "05962105649382616878"
     },
     "user_tz": -420
    },
    "id": "NHdVrbu3kOUw",
    "outputId": "0d4038a7-6438-4f2e-f58b-07af03f5b9d4"
   },
   "outputs": [
    {
     "data": {
      "text/plain": [
       "(3, 1)"
      ]
     },
     "execution_count": 11,
     "metadata": {},
     "output_type": "execute_result"
    }
   ],
   "source": [
    "C.shape"
   ]
  },
  {
   "cell_type": "markdown",
   "metadata": {
    "colab_type": "text",
    "id": "jDn9FnJ0imZY"
   },
   "source": []
  },
  {
   "cell_type": "markdown",
   "metadata": {
    "colab_type": "text",
    "id": "iBCMyIpQI6sc"
   },
   "source": [
    "We can obtain the following straightforwardly:\n",
    "\n",
    "- $5A$ (or any other scalar multiple of $A$);\n",
    "- $A ^ 3$ (or any other exponent of $A$);\n",
    "- $A + B$;\n",
    "- $A - B$;\n",
    "- $AB$\n",
    "- $AC$\n",
    "- $B+AC$"
   ]
  },
  {
   "cell_type": "code",
   "execution_count": 12,
   "metadata": {
    "colab": {
     "base_uri": "https://localhost:8080/",
     "height": 68
    },
    "colab_type": "code",
    "executionInfo": {
     "elapsed": 1287,
     "status": "ok",
     "timestamp": 1594116895827,
     "user": {
      "displayName": "Tuchsanai Ploysuwan",
      "photoUrl": "",
      "userId": "05962105649382616878"
     },
     "user_tz": -420
    },
    "id": "QGlsxxOTI6sc",
    "outputId": "9570e1f3-d26f-47b8-8a1a-5a96eab6a68a"
   },
   "outputs": [
    {
     "data": {
      "text/plain": [
       "matrix([[25, 30, 10],\n",
       "        [20, 35, 95],\n",
       "        [ 0, 15, 60]])"
      ]
     },
     "execution_count": 12,
     "metadata": {},
     "output_type": "execute_result"
    }
   ],
   "source": [
    "5 * A"
   ]
  },
  {
   "cell_type": "code",
   "execution_count": 13,
   "metadata": {
    "colab": {
     "base_uri": "https://localhost:8080/",
     "height": 68
    },
    "colab_type": "code",
    "executionInfo": {
     "elapsed": 790,
     "status": "ok",
     "timestamp": 1594116895828,
     "user": {
      "displayName": "Tuchsanai Ploysuwan",
      "photoUrl": "",
      "userId": "05962105649382616878"
     },
     "user_tz": -420
    },
    "id": "yHPx-oBPI6sg",
    "outputId": "36d41b1f-f5f6-4ef5-eb60-fa3e1894192d"
   },
   "outputs": [
    {
     "data": {
      "text/plain": [
       "matrix([[ 557, 1284, 3356],\n",
       "        [ 760, 2305, 6994],\n",
       "        [ 288, 1074, 3519]])"
      ]
     },
     "execution_count": 13,
     "metadata": {},
     "output_type": "execute_result"
    }
   ],
   "source": [
    "A ** 3"
   ]
  },
  {
   "cell_type": "code",
   "execution_count": 14,
   "metadata": {
    "colab": {
     "base_uri": "https://localhost:8080/",
     "height": 68
    },
    "colab_type": "code",
    "executionInfo": {
     "elapsed": 1002,
     "status": "ok",
     "timestamp": 1594116896418,
     "user": {
      "displayName": "Tuchsanai Ploysuwan",
      "photoUrl": "",
      "userId": "05962105649382616878"
     },
     "user_tz": -420
    },
    "id": "H3jtLTR_jiH_",
    "outputId": "2a121038-0605-44c7-8242-d57ba71843b1"
   },
   "outputs": [
    {
     "data": {
      "text/plain": [
       "matrix([[ 557, 1284, 3356],\n",
       "        [ 760, 2305, 6994],\n",
       "        [ 288, 1074, 3519]])"
      ]
     },
     "execution_count": 14,
     "metadata": {},
     "output_type": "execute_result"
    }
   ],
   "source": [
    "A*A*A"
   ]
  },
  {
   "cell_type": "code",
   "execution_count": 15,
   "metadata": {
    "colab": {
     "base_uri": "https://localhost:8080/",
     "height": 68
    },
    "colab_type": "code",
    "executionInfo": {
     "elapsed": 893,
     "status": "ok",
     "timestamp": 1594116896419,
     "user": {
      "displayName": "Tuchsanai Ploysuwan",
      "photoUrl": "",
      "userId": "05962105649382616878"
     },
     "user_tz": -420
    },
    "id": "C4PYImdvI6si",
    "outputId": "5c92ead2-be70-4c14-f791-db0cf58a3b61"
   },
   "outputs": [
    {
     "data": {
      "text/plain": [
       "matrix([[19,  4, 14],\n",
       "        [ 8, 11, 24],\n",
       "        [ 5,  8, 13]])"
      ]
     },
     "execution_count": 15,
     "metadata": {},
     "output_type": "execute_result"
    }
   ],
   "source": [
    "A + B"
   ]
  },
  {
   "cell_type": "code",
   "execution_count": 16,
   "metadata": {
    "colab": {
     "base_uri": "https://localhost:8080/",
     "height": 68
    },
    "colab_type": "code",
    "executionInfo": {
     "elapsed": 733,
     "status": "ok",
     "timestamp": 1594116897049,
     "user": {
      "displayName": "Tuchsanai Ploysuwan",
      "photoUrl": "",
      "userId": "05962105649382616878"
     },
     "user_tz": -420
    },
    "id": "9vSXazN8I6sk",
    "outputId": "56e7ba63-9e66-4c2c-8038-6caceb050c30"
   },
   "outputs": [
    {
     "data": {
      "text/plain": [
       "matrix([[ -9,   8, -10],\n",
       "        [  0,   3,  14],\n",
       "        [ -5,  -2,  11]])"
      ]
     },
     "execution_count": 16,
     "metadata": {},
     "output_type": "execute_result"
    }
   ],
   "source": [
    "A - B"
   ]
  },
  {
   "cell_type": "code",
   "execution_count": 17,
   "metadata": {
    "colab": {
     "base_uri": "https://localhost:8080/",
     "height": 68
    },
    "colab_type": "code",
    "executionInfo": {
     "elapsed": 974,
     "status": "ok",
     "timestamp": 1594116959426,
     "user": {
      "displayName": "Tuchsanai Ploysuwan",
      "photoUrl": "",
      "userId": "05962105649382616878"
     },
     "user_tz": -420
    },
    "id": "AduLGMaSI6sm",
    "outputId": "d7e5dda2-18f1-4c98-c669-a207547cb2cc"
   },
   "outputs": [
    {
     "data": {
      "text/plain": [
       "matrix([[104,  24,  92],\n",
       "        [179, 115, 102],\n",
       "        [ 72,  72,  27]])"
      ]
     },
     "execution_count": 17,
     "metadata": {},
     "output_type": "execute_result"
    }
   ],
   "source": [
    "A * B"
   ]
  },
  {
   "cell_type": "code",
   "execution_count": 18,
   "metadata": {
    "colab": {
     "base_uri": "https://localhost:8080/",
     "height": 68
    },
    "colab_type": "code",
    "executionInfo": {
     "elapsed": 940,
     "status": "ok",
     "timestamp": 1594116897878,
     "user": {
      "displayName": "Tuchsanai Ploysuwan",
      "photoUrl": "",
      "userId": "05962105649382616878"
     },
     "user_tz": -420
    },
    "id": "fcnx009Wcglh",
    "outputId": "7b41895c-5dfc-404a-fc7b-d49a1802aaba"
   },
   "outputs": [
    {
     "data": {
      "text/plain": [
       "matrix([[104,  24,  92],\n",
       "        [179, 115, 102],\n",
       "        [ 72,  72,  27]])"
      ]
     },
     "execution_count": 18,
     "metadata": {},
     "output_type": "execute_result"
    }
   ],
   "source": [
    "A.dot(B)"
   ]
  },
  {
   "cell_type": "code",
   "execution_count": null,
   "metadata": {
    "colab": {
     "base_uri": "https://localhost:8080/",
     "height": 68
    },
    "colab_type": "code",
    "executionInfo": {
     "elapsed": 820,
     "status": "ok",
     "timestamp": 1594116936371,
     "user": {
      "displayName": "Tuchsanai Ploysuwan",
      "photoUrl": "",
      "userId": "05962105649382616878"
     },
     "user_tz": -420
    },
    "id": "xqZpHEZ8k1kx",
    "outputId": "821dfed5-68be-4ea9-e208-debde89fd2be"
   },
   "outputs": [
    {
     "data": {
      "text/plain": [
       "matrix([[ 49],\n",
       "        [172],\n",
       "        [ 99]])"
      ]
     },
     "execution_count": 120,
     "metadata": {
      "tags": []
     },
     "output_type": "execute_result"
    }
   ],
   "source": [
    "A*C"
   ]
  },
  {
   "cell_type": "code",
   "execution_count": null,
   "metadata": {
    "colab": {
     "base_uri": "https://localhost:8080/",
     "height": 34
    },
    "colab_type": "code",
    "executionInfo": {
     "elapsed": 976,
     "status": "ok",
     "timestamp": 1594116910438,
     "user": {
      "displayName": "Tuchsanai Ploysuwan",
      "photoUrl": "",
      "userId": "05962105649382616878"
     },
     "user_tz": -420
    },
    "id": "_Ld4glsplHbM",
    "outputId": "e1a957e6-92d5-441d-f708-a53c623ef585"
   },
   "outputs": [
    {
     "data": {
      "text/plain": [
       "(3, 1)"
      ]
     },
     "execution_count": 108,
     "metadata": {
      "tags": []
     },
     "output_type": "execute_result"
    }
   ],
   "source": [
    "(A*C).shape"
   ]
  },
  {
   "cell_type": "code",
   "execution_count": null,
   "metadata": {
    "colab": {
     "base_uri": "https://localhost:8080/",
     "height": 68
    },
    "colab_type": "code",
    "executionInfo": {
     "elapsed": 840,
     "status": "ok",
     "timestamp": 1594116911593,
     "user": {
      "displayName": "Tuchsanai Ploysuwan",
      "photoUrl": "",
      "userId": "05962105649382616878"
     },
     "user_tz": -420
    },
    "id": "pIct6Uymk1mL",
    "outputId": "a30d4156-8f0b-4c00-8f18-a11138667ab3"
   },
   "outputs": [
    {
     "data": {
      "text/plain": [
       "matrix([[ 63,  47,  61],\n",
       "        [176, 176, 177],\n",
       "        [104, 104, 100]])"
      ]
     },
     "execution_count": 109,
     "metadata": {
      "tags": []
     },
     "output_type": "execute_result"
    }
   ],
   "source": [
    "B+A*C"
   ]
  },
  {
   "cell_type": "markdown",
   "metadata": {
    "colab_type": "text",
    "id": "cJM2-KVQbHQZ"
   },
   "source": [
    "### Transpose\n",
    "\n",
    ">The transpose of a matrix is another operation that can be accomplished with `numpy`. Its importance isn't so obvious as first, but they're used to <HERE>. Now, let's take a look at an example. Given the matrix below, let's find what its transpose looks like. "
   ]
  },
  {
   "cell_type": "code",
   "execution_count": 19,
   "metadata": {
    "colab": {
     "base_uri": "https://localhost:8080/",
     "height": 68
    },
    "colab_type": "code",
    "executionInfo": {
     "elapsed": 1022,
     "status": "ok",
     "timestamp": 1594111330015,
     "user": {
      "displayName": "Tuchsanai Ploysuwan",
      "photoUrl": "",
      "userId": "05962105649382616878"
     },
     "user_tz": -420
    },
    "id": "mUjZBq-1bLsG",
    "outputId": "2d63b0fc-5290-4de9-96e1-384c8ecb15fc"
   },
   "outputs": [
    {
     "data": {
      "text/plain": [
       "matrix([[ 5,  4,  0],\n",
       "        [ 6,  7,  3],\n",
       "        [ 2, 19, 12]])"
      ]
     },
     "execution_count": 19,
     "metadata": {},
     "output_type": "execute_result"
    }
   ],
   "source": [
    "A.transpose()"
   ]
  },
  {
   "cell_type": "code",
   "execution_count": 20,
   "metadata": {
    "colab": {
     "base_uri": "https://localhost:8080/",
     "height": 68
    },
    "colab_type": "code",
    "executionInfo": {
     "elapsed": 692,
     "status": "ok",
     "timestamp": 1594111330016,
     "user": {
      "displayName": "Tuchsanai Ploysuwan",
      "photoUrl": "",
      "userId": "05962105649382616878"
     },
     "user_tz": -420
    },
    "id": "dT3OltsrbLqk",
    "outputId": "a4a4360a-ddb6-465c-9c14-96828a93fc4f"
   },
   "outputs": [
    {
     "data": {
      "text/plain": [
       "matrix([[ 5,  4,  0],\n",
       "        [ 6,  7,  3],\n",
       "        [ 2, 19, 12]])"
      ]
     },
     "execution_count": 20,
     "metadata": {},
     "output_type": "execute_result"
    }
   ],
   "source": [
    "np.transpose(A)"
   ]
  },
  {
   "cell_type": "code",
   "execution_count": 21,
   "metadata": {},
   "outputs": [
    {
     "data": {
      "text/plain": [
       "matrix([[ 5,  4,  0],\n",
       "        [ 6,  7,  3],\n",
       "        [ 2, 19, 12]])"
      ]
     },
     "execution_count": 21,
     "metadata": {},
     "output_type": "execute_result"
    }
   ],
   "source": [
    "A.T"
   ]
  },
  {
   "cell_type": "markdown",
   "metadata": {
    "colab_type": "text",
    "id": "IkQM_jJdimdz"
   },
   "source": [
    "### Identity Matrix\n",
    "\n",
    "A Diagonal Matrix is an n x n matrix with 1s on the diagonal from the top left to the bottom right, such as \n",
    "\n",
    "``` \n",
    "[[ 1., 0., 0.],\n",
    "[ 0., 1., 0.],\n",
    "[ 0., 0., 1.]]\n",
    "```\n",
    "\n",
    "We can generate diagonal matrices with the `eye()` function in Python: \n"
   ]
  },
  {
   "cell_type": "code",
   "execution_count": null,
   "metadata": {
    "colab": {
     "base_uri": "https://localhost:8080/",
     "height": 85
    },
    "colab_type": "code",
    "executionInfo": {
     "elapsed": 1049,
     "status": "ok",
     "timestamp": 1594113091619,
     "user": {
      "displayName": "Tuchsanai Ploysuwan",
      "photoUrl": "",
      "userId": "05962105649382616878"
     },
     "user_tz": -420
    },
    "id": "UYJkDVWsizrk",
    "outputId": "fd3955bb-1d57-4c3d-bc98-6897141517a1"
   },
   "outputs": [
    {
     "data": {
      "text/plain": [
       "array([[1., 0., 0., 0.],\n",
       "       [0., 1., 0., 0.],\n",
       "       [0., 0., 1., 0.],\n",
       "       [0., 0., 0., 1.]])"
      ]
     },
     "execution_count": 31,
     "metadata": {
      "tags": []
     },
     "output_type": "execute_result"
    }
   ],
   "source": [
    "np.eye(4)"
   ]
  },
  {
   "cell_type": "markdown",
   "metadata": {
    "colab_type": "text",
    "id": "xevY3HUQbypK"
   },
   "source": [
    "---\n",
    "\n",
    "**EXERCISE** Compute $A ^ 2 - 2 A + 3$ with:\n",
    "\n",
    "$$A = \n",
    "\\begin{pmatrix}\n",
    "1 & -1\\\\\n",
    "2 & 1\n",
    "\\end{pmatrix}\n",
    "$$\n",
    "---"
   ]
  },
  {
   "cell_type": "code",
   "execution_count": null,
   "metadata": {
    "colab": {
     "base_uri": "https://localhost:8080/",
     "height": 51
    },
    "colab_type": "code",
    "executionInfo": {
     "elapsed": 819,
     "status": "ok",
     "timestamp": 1594111284676,
     "user": {
      "displayName": "Tuchsanai Ploysuwan",
      "photoUrl": "",
      "userId": "05962105649382616878"
     },
     "user_tz": -420
    },
    "id": "xuImdsTtb0vq",
    "outputId": "cb8eda8d-4cd3-4ccb-8b14-a7dc1b39bd83"
   },
   "outputs": [
    {
     "data": {
      "text/plain": [
       "array([[ 1, -1],\n",
       "       [ 2,  1]])"
      ]
     },
     "execution_count": 9,
     "metadata": {
      "tags": []
     },
     "output_type": "execute_result"
    }
   ],
   "source": [
    "A = np.array([ [1,-1],[2,1] ])\n",
    "A"
   ]
  },
  {
   "cell_type": "code",
   "execution_count": null,
   "metadata": {
    "colab": {
     "base_uri": "https://localhost:8080/",
     "height": 51
    },
    "colab_type": "code",
    "executionInfo": {
     "elapsed": 1851,
     "status": "ok",
     "timestamp": 1594111307681,
     "user": {
      "displayName": "Tuchsanai Ploysuwan",
      "photoUrl": "",
      "userId": "05962105649382616878"
     },
     "user_tz": -420
    },
    "id": "ivStwaK_b0w0",
    "outputId": "e657d501-0e3c-4e3f-9a2c-71dc1c92cd81"
   },
   "outputs": [
    {
     "data": {
      "text/plain": [
       "array([[2, 6],\n",
       "       [3, 2]])"
      ]
     },
     "execution_count": 11,
     "metadata": {
      "tags": []
     },
     "output_type": "execute_result"
    }
   ],
   "source": [
    "A**2-2*A+3"
   ]
  },
  {
   "cell_type": "markdown",
   "metadata": {
    "colab_type": "text",
    "id": "Vaj9s1WhI6s0"
   },
   "source": [
    "---\n",
    "\n",
    "**EXERCISE** Compute the solutions to the matrix equation $Bx=b$ (using the $B$ defined earlier).\n",
    "\n",
    "---\n",
    "\n",
    "## Matrix inversion and determinants\n",
    "\n",
    ">Computing the inverse of a matrix is straightforward:\n",
    "\n",
    "We can verify that $A^{-1}A=\\mathbb{1}$:"
   ]
  },
  {
   "cell_type": "code",
   "execution_count": null,
   "metadata": {
    "colab": {},
    "colab_type": "code",
    "id": "9TvvrYD4I6s3",
    "outputId": "d529f490-dceb-43a1-ff10-5b006b763e72",
    "tags": [
     "nbval-ignore-output"
    ]
   },
   "outputs": [
    {
     "data": {
      "text/plain": [
       "matrix([[  1.00000000e+00,   2.77555756e-17,   3.05311332e-16],\n",
       "        [ -2.08166817e-16,   1.00000000e+00,  -2.08166817e-16],\n",
       "        [  5.55111512e-17,  -5.55111512e-17,   1.00000000e+00]])"
      ]
     },
     "execution_count": 36,
     "metadata": {
      "tags": []
     },
     "output_type": "execute_result"
    }
   ],
   "source": [
    "A * Ainv"
   ]
  },
  {
   "cell_type": "code",
   "execution_count": null,
   "metadata": {
    "colab": {},
    "colab_type": "code",
    "id": "LuekhTn-I6s1",
    "outputId": "d22f4fc3-833a-4c22-c2fc-bb132f824786"
   },
   "outputs": [
    {
     "data": {
      "text/plain": [
       "matrix([[-0.20930233,  0.51162791, -0.7751938 ],\n",
       "        [ 0.37209302, -0.46511628,  0.6744186 ],\n",
       "        [-0.09302326,  0.11627907, -0.08527132]])"
      ]
     },
     "execution_count": 35,
     "metadata": {
      "tags": []
     },
     "output_type": "execute_result"
    }
   ],
   "source": [
    "Ainv = np.linalg.inv(A)\n",
    "Ainv"
   ]
  },
  {
   "cell_type": "markdown",
   "metadata": {
    "colab_type": "text",
    "id": "sxDZosWqI6s5"
   },
   "source": [
    "The above might not look like the identity matrix but if you look closer you see that the diagonals are all `1` and the off diagonals are a **very** small number (which from a computer's point of view is `0`)."
   ]
  },
  {
   "cell_type": "markdown",
   "metadata": {
    "colab_type": "text",
    "id": "rBGrX6FZI6sq"
   },
   "source": [
    "\n",
    "---\n",
    "\n",
    "## Solving Matrix equations\n",
    "\n",
    "We can use Numpy to (efficiently) solve large systems of equations of the form:\n",
    "\n",
    "$$Ax=b$$\n",
    "\n",
    "Let us illustrate that with:\n",
    "\n",
    "$$\n",
    "A = \\begin{pmatrix}\n",
    "5 & 6 & 2\\\\\n",
    "4 & 7 & 19\\\\\n",
    "0 & 3 & 12\n",
    "\\end{pmatrix}\n",
    "$$\n",
    "\n",
    "$$\n",
    "b = \\begin{pmatrix}\n",
    "-1\\\\\n",
    "2\\\\\n",
    "1 \n",
    "\\end{pmatrix}\n",
    "$$\n",
    "\n",
    "$$x=A^{-1}b $$\n",
    "\n"
   ]
  },
  {
   "cell_type": "code",
   "execution_count": null,
   "metadata": {
    "colab": {},
    "colab_type": "code",
    "id": "p1mmQOtaI6sr"
   },
   "outputs": [],
   "source": [
    "A = np.matrix([[5, 6, 2],\n",
    "               [4, 7, 19],\n",
    "               [0, 3, 12]])\n",
    "b = np.matrix([[-1], [2], [1]])"
   ]
  },
  {
   "cell_type": "markdown",
   "metadata": {
    "colab_type": "text",
    "id": "qvvEjkMRI6sv"
   },
   "source": [
    "We use the `linalg.solve` command:"
   ]
  },
  {
   "cell_type": "code",
   "execution_count": null,
   "metadata": {
    "colab": {
     "base_uri": "https://localhost:8080/",
     "height": 68
    },
    "colab_type": "code",
    "executionInfo": {
     "elapsed": 823,
     "status": "ok",
     "timestamp": 1594283005949,
     "user": {
      "displayName": "Tuchsanai Ploysuwan",
      "photoUrl": "",
      "userId": "05962105649382616878"
     },
     "user_tz": -420
    },
    "id": "vxvy3-jdI6sv",
    "outputId": "d87629f4-79f4-42b9-83e0-4ec2cfb939ee"
   },
   "outputs": [
    {
     "data": {
      "text/plain": [
       "matrix([[ 0.45736434],\n",
       "        [-0.62790698],\n",
       "        [ 0.24031008]])"
      ]
     },
     "execution_count": 13,
     "metadata": {
      "tags": []
     },
     "output_type": "execute_result"
    }
   ],
   "source": [
    "x = np.linalg.solve(A, b)\n",
    "x"
   ]
  },
  {
   "cell_type": "code",
   "execution_count": null,
   "metadata": {
    "colab": {
     "base_uri": "https://localhost:8080/",
     "height": 68
    },
    "colab_type": "code",
    "executionInfo": {
     "elapsed": 992,
     "status": "ok",
     "timestamp": 1594283012010,
     "user": {
      "displayName": "Tuchsanai Ploysuwan",
      "photoUrl": "",
      "userId": "05962105649382616878"
     },
     "user_tz": -420
    },
    "id": "obImaxKNdSI6",
    "outputId": "e446f038-6040-4b49-f21b-027ed12caa45"
   },
   "outputs": [
    {
     "data": {
      "text/plain": [
       "matrix([[ 0.45736434],\n",
       "        [-0.62790698],\n",
       "        [ 0.24031008]])"
      ]
     },
     "execution_count": 14,
     "metadata": {
      "tags": []
     },
     "output_type": "execute_result"
    }
   ],
   "source": [
    " x= np.linalg.inv(A)*b\n",
    " x"
   ]
  },
  {
   "cell_type": "markdown",
   "metadata": {
    "colab_type": "text",
    "id": "dwFfR59wI6sx"
   },
   "source": [
    "We can verify our result:"
   ]
  },
  {
   "cell_type": "code",
   "execution_count": null,
   "metadata": {
    "colab": {
     "base_uri": "https://localhost:8080/",
     "height": 68
    },
    "colab_type": "code",
    "executionInfo": {
     "elapsed": 1011,
     "status": "ok",
     "timestamp": 1594283012983,
     "user": {
      "displayName": "Tuchsanai Ploysuwan",
      "photoUrl": "",
      "userId": "05962105649382616878"
     },
     "user_tz": -420
    },
    "id": "227u2_YdI6sy",
    "outputId": "b69602aa-b4dd-43dc-8a70-4164e4301f4a"
   },
   "outputs": [
    {
     "data": {
      "text/plain": [
       "matrix([[-1.],\n",
       "        [ 2.],\n",
       "        [ 1.]])"
      ]
     },
     "execution_count": 15,
     "metadata": {
      "tags": []
     },
     "output_type": "execute_result"
    }
   ],
   "source": [
    "A * x"
   ]
  },
  {
   "cell_type": "markdown",
   "metadata": {
    "colab_type": "text",
    "id": "-wVtp0e7I6s6"
   },
   "source": [
    "#To calculate the determinant:"
   ]
  },
  {
   "cell_type": "code",
   "execution_count": null,
   "metadata": {
    "colab": {
     "base_uri": "https://localhost:8080/",
     "height": 34
    },
    "colab_type": "code",
    "executionInfo": {
     "elapsed": 789,
     "status": "ok",
     "timestamp": 1594283016890,
     "user": {
      "displayName": "Tuchsanai Ploysuwan",
      "photoUrl": "",
      "userId": "05962105649382616878"
     },
     "user_tz": -420
    },
    "id": "Ghqt1NyFI6s6",
    "outputId": "eb75af57-8671-47dd-9b89-aec98ce735dd",
    "tags": [
     "nbval-ignore-output"
    ]
   },
   "outputs": [
    {
     "data": {
      "text/plain": [
       "-129.00000000000009"
      ]
     },
     "execution_count": 16,
     "metadata": {
      "tags": []
     },
     "output_type": "execute_result"
    }
   ],
   "source": [
    "np.linalg.det(A)"
   ]
  },
  {
   "cell_type": "markdown",
   "metadata": {
    "colab_type": "text",
    "id": "2h564DmRjQpu"
   },
   "source": [
    "### What is a Norm? \n",
    "\n",
    "The actual formula looks like: \n",
    "\n",
    "$$ ||v|| = \\sqrt{v_1^2 + ... + v_n^2} $$"
   ]
  },
  {
   "cell_type": "code",
   "execution_count": null,
   "metadata": {
    "colab": {
     "base_uri": "https://localhost:8080/",
     "height": 34
    },
    "colab_type": "code",
    "executionInfo": {
     "elapsed": 1048,
     "status": "ok",
     "timestamp": 1594113578676,
     "user": {
      "displayName": "Tuchsanai Ploysuwan",
      "photoUrl": "",
      "userId": "05962105649382616878"
     },
     "user_tz": -420
    },
    "id": "bskoriS1jRNO",
    "outputId": "650f0275-cc6b-482a-99f9-719543dc473c"
   },
   "outputs": [
    {
     "data": {
      "text/plain": [
       "array([1, 2, 3, 4])"
      ]
     },
     "execution_count": 45,
     "metadata": {
      "tags": []
     },
     "output_type": "execute_result"
    }
   ],
   "source": [
    "v = np.array([1,2,3,4])\n",
    "v"
   ]
  },
  {
   "cell_type": "code",
   "execution_count": null,
   "metadata": {
    "colab": {
     "base_uri": "https://localhost:8080/",
     "height": 34
    },
    "colab_type": "code",
    "executionInfo": {
     "elapsed": 1018,
     "status": "ok",
     "timestamp": 1594113573522,
     "user": {
      "displayName": "Tuchsanai Ploysuwan",
      "photoUrl": "",
      "userId": "05962105649382616878"
     },
     "user_tz": -420
    },
    "id": "LI77V4qRkYt0",
    "outputId": "ab57f394-9657-46bd-8368-ba3a8ad3f11e"
   },
   "outputs": [
    {
     "data": {
      "text/plain": [
       "5.477225575051661"
      ]
     },
     "execution_count": 44,
     "metadata": {
      "tags": []
     },
     "output_type": "execute_result"
    }
   ],
   "source": [
    "np.linalg.norm(v)"
   ]
  },
  {
   "cell_type": "markdown",
   "metadata": {
    "colab_type": "text",
    "id": "yKuhwjnpmR8L"
   },
   "source": [
    "#ตัวอย่าง 1\n",
    "#จงแก้สมการต่อไปนี้\n",
    "\n",
    "#$\\displaylines{\n",
    "   - 9x - 12y + 15z =  - 14 \\cr \n",
    "  2x - 7y =  - 3 - {1 \\over 5}z \\cr \n",
    "   - 2y + z =  - 8 + 5x \\cr} $\n",
    "\n",
    "</br>\n",
    "วิธีทำจัดรูปใหม่\n",
    "</br>\n",
    "\n",
    "#$\\displaylines{\n",
    "   - 9x - 12y + 15z =  - 14 \\cr \n",
    "  2x - 7y + {1 \\over 5}z =  - 3 \\cr \n",
    "   - 5x - 2y + z =  - 8 \\cr} $\n",
    "\n",
    "\n",
    "\n",
    "   $$\n",
    "A = \\begin{pmatrix}\n",
    "-9 & -12 & 15\\\\\n",
    "2 & -7 & 1/5\\\\\n",
    "-5 & -2 & 1\n",
    "\\end{pmatrix}\n",
    "$$\n",
    "\n",
    "$$\n",
    "b = \\begin{pmatrix}\n",
    "-14\\\\\n",
    "-3\\\\\n",
    "-8 \n",
    "\\end{pmatrix}\n",
    "$$\n",
    "\n",
    "$$Ax=b$$\n",
    "\n",
    "$$x=A^{-1}b $$\n"
   ]
  },
  {
   "cell_type": "code",
   "execution_count": null,
   "metadata": {
    "colab": {},
    "colab_type": "code",
    "id": "0e05VPifscKn"
   },
   "outputs": [],
   "source": [
    "A = np.matrix([ [-9 ,-12 , 15] ,[2 ,-7  ,1/5], [-5,-2,1] ] )\n",
    "b = np.matrix( [[-14],[-3],[8]])\n",
    "\n"
   ]
  },
  {
   "cell_type": "code",
   "execution_count": null,
   "metadata": {
    "colab": {
     "base_uri": "https://localhost:8080/",
     "height": 68
    },
    "colab_type": "code",
    "executionInfo": {
     "elapsed": 906,
     "status": "ok",
     "timestamp": 1594283027985,
     "user": {
      "displayName": "Tuchsanai Ploysuwan",
      "photoUrl": "",
      "userId": "05962105649382616878"
     },
     "user_tz": -420
    },
    "id": "9TpIFYRovls7",
    "outputId": "3dc1971a-3b38-4036-c1a0-a136f0129331"
   },
   "outputs": [
    {
     "data": {
      "text/plain": [
       "matrix([[ -9. , -12. ,  15. ],\n",
       "        [  2. ,  -7. ,   0.2],\n",
       "        [ -5. ,  -2. ,   1. ]])"
      ]
     },
     "execution_count": 18,
     "metadata": {
      "tags": []
     },
     "output_type": "execute_result"
    }
   ],
   "source": [
    "A"
   ]
  },
  {
   "cell_type": "code",
   "execution_count": null,
   "metadata": {
    "colab": {
     "base_uri": "https://localhost:8080/",
     "height": 34
    },
    "colab_type": "code",
    "executionInfo": {
     "elapsed": 800,
     "status": "ok",
     "timestamp": 1594116494876,
     "user": {
      "displayName": "Tuchsanai Ploysuwan",
      "photoUrl": "",
      "userId": "05962105649382616878"
     },
     "user_tz": -420
    },
    "id": "DzOz7VCBvyx4",
    "outputId": "17bbac39-be02-4604-bfe6-8cb533f5a5de"
   },
   "outputs": [
    {
     "data": {
      "text/plain": [
       "(3, 3)"
      ]
     },
     "execution_count": 80,
     "metadata": {
      "tags": []
     },
     "output_type": "execute_result"
    }
   ],
   "source": [
    "A.shape"
   ]
  },
  {
   "cell_type": "code",
   "execution_count": null,
   "metadata": {
    "colab": {
     "base_uri": "https://localhost:8080/",
     "height": 68
    },
    "colab_type": "code",
    "executionInfo": {
     "elapsed": 788,
     "status": "ok",
     "timestamp": 1594116477899,
     "user": {
      "displayName": "Tuchsanai Ploysuwan",
      "photoUrl": "",
      "userId": "05962105649382616878"
     },
     "user_tz": -420
    },
    "id": "Hh_C_liWsp49",
    "outputId": "d75179d7-f72b-4370-8680-0f619f098a27"
   },
   "outputs": [
    {
     "data": {
      "text/plain": [
       "array([[-14],\n",
       "       [ -3],\n",
       "       [  8]])"
      ]
     },
     "execution_count": 76,
     "metadata": {
      "tags": []
     },
     "output_type": "execute_result"
    }
   ],
   "source": [
    "b"
   ]
  },
  {
   "cell_type": "code",
   "execution_count": null,
   "metadata": {
    "colab": {
     "base_uri": "https://localhost:8080/",
     "height": 34
    },
    "colab_type": "code",
    "executionInfo": {
     "elapsed": 782,
     "status": "ok",
     "timestamp": 1594116479307,
     "user": {
      "displayName": "Tuchsanai Ploysuwan",
      "photoUrl": "",
      "userId": "05962105649382616878"
     },
     "user_tz": -420
    },
    "id": "EN3UTUKJuWKU",
    "outputId": "69671f36-1ff2-41a3-e437-d70729efb1fc"
   },
   "outputs": [
    {
     "data": {
      "text/plain": [
       "(3, 1)"
      ]
     },
     "execution_count": 77,
     "metadata": {
      "tags": []
     },
     "output_type": "execute_result"
    }
   ],
   "source": [
    "b.shape"
   ]
  },
  {
   "cell_type": "code",
   "execution_count": null,
   "metadata": {
    "colab": {
     "base_uri": "https://localhost:8080/",
     "height": 68
    },
    "colab_type": "code",
    "executionInfo": {
     "elapsed": 998,
     "status": "ok",
     "timestamp": 1594116981157,
     "user": {
      "displayName": "Tuchsanai Ploysuwan",
      "photoUrl": "",
      "userId": "05962105649382616878"
     },
     "user_tz": -420
    },
    "id": "oXejB3_Zszbi",
    "outputId": "0dc8eaa8-e359-4c7a-a047-077f6dc4b10d"
   },
   "outputs": [
    {
     "data": {
      "text/plain": [
       "matrix([[-1.9754902 ],\n",
       "        [-0.20098039],\n",
       "        [-2.27941176]])"
      ]
     },
     "execution_count": 123,
     "metadata": {
      "tags": []
     },
     "output_type": "execute_result"
    }
   ],
   "source": [
    "x = np.linalg.solve(A, b)\n",
    "x"
   ]
  },
  {
   "cell_type": "code",
   "execution_count": null,
   "metadata": {
    "colab": {
     "base_uri": "https://localhost:8080/",
     "height": 68
    },
    "colab_type": "code",
    "executionInfo": {
     "elapsed": 864,
     "status": "ok",
     "timestamp": 1594283058939,
     "user": {
      "displayName": "Tuchsanai Ploysuwan",
      "photoUrl": "",
      "userId": "05962105649382616878"
     },
     "user_tz": -420
    },
    "id": "f3S53Q_Cs5H8",
    "outputId": "9c1bef47-9e0e-4328-f316-773ca8391f37"
   },
   "outputs": [
    {
     "data": {
      "text/plain": [
       "matrix([[-1.9754902 ],\n",
       "        [-0.20098039],\n",
       "        [-2.27941176]])"
      ]
     },
     "execution_count": 20,
     "metadata": {
      "tags": []
     },
     "output_type": "execute_result"
    }
   ],
   "source": [
    "x= np.linalg.inv(A)*b\n",
    "x"
   ]
  },
  {
   "cell_type": "markdown",
   "metadata": {
    "colab_type": "text",
    "id": "A_mLrdHPr16I"
   },
   "source": [
    "#ตัวอย่าง 2\n",
    "\n",
    "จงหาค่า $i_1$ และ $i_2$\n",
    "\n",
    "![rrfffdwde](https://github.com/Tuchsanai/152-333-/blob/master/images/2020-07-09_15-20-44.png?raw=true)\n",
    "\n",
    "\n",
    "#$\\begin{array}{c}\n",
    "\\left( {20 + 20} \\right){i_1} - 20{i_2} = 40\\\\\n",
    " - 20{i_1} - \\left( {40 + 20} \\right) = 0\n",
    "\\end{array}$\n",
    "\n",
    "#จัดรูปใหม่\n",
    "\n",
    "#$\\begin{array}{c}\n",
    "40{i_1} - 20{i_2} = 40\\\\\n",
    " - 20{i_1} - 60 i_2 = 0\n",
    "\\end{array}$"
   ]
  },
  {
   "cell_type": "code",
   "execution_count": null,
   "metadata": {
    "colab": {},
    "colab_type": "code",
    "id": "5b7m8HYqx0mI"
   },
   "outputs": [],
   "source": [
    "A = np.matrix([ [40,-20 ] ,[-20 ,-60  ] ] )\n",
    "b = np.matrix( [[40],[0]])"
   ]
  },
  {
   "cell_type": "code",
   "execution_count": null,
   "metadata": {
    "colab": {
     "base_uri": "https://localhost:8080/",
     "height": 51
    },
    "colab_type": "code",
    "executionInfo": {
     "elapsed": 845,
     "status": "ok",
     "timestamp": 1594283726897,
     "user": {
      "displayName": "Tuchsanai Ploysuwan",
      "photoUrl": "",
      "userId": "05962105649382616878"
     },
     "user_tz": -420
    },
    "id": "tOKdmupqtugR",
    "outputId": "2932490f-6f51-4784-8dc8-cd81eff9568d"
   },
   "outputs": [
    {
     "data": {
      "text/plain": [
       "matrix([[ 40, -20],\n",
       "        [-20, -60]])"
      ]
     },
     "execution_count": 23,
     "metadata": {
      "tags": []
     },
     "output_type": "execute_result"
    }
   ],
   "source": [
    "A"
   ]
  },
  {
   "cell_type": "code",
   "execution_count": null,
   "metadata": {
    "colab": {
     "base_uri": "https://localhost:8080/",
     "height": 51
    },
    "colab_type": "code",
    "executionInfo": {
     "elapsed": 857,
     "status": "ok",
     "timestamp": 1594283730864,
     "user": {
      "displayName": "Tuchsanai Ploysuwan",
      "photoUrl": "",
      "userId": "05962105649382616878"
     },
     "user_tz": -420
    },
    "id": "y7OI4-E4txLw",
    "outputId": "f7d961da-2640-499e-a046-0d0badbcdc91"
   },
   "outputs": [
    {
     "data": {
      "text/plain": [
       "matrix([[40],\n",
       "        [ 0]])"
      ]
     },
     "execution_count": 24,
     "metadata": {
      "tags": []
     },
     "output_type": "execute_result"
    }
   ],
   "source": [
    "b"
   ]
  },
  {
   "cell_type": "code",
   "execution_count": null,
   "metadata": {
    "colab": {
     "base_uri": "https://localhost:8080/",
     "height": 51
    },
    "colab_type": "code",
    "executionInfo": {
     "elapsed": 756,
     "status": "ok",
     "timestamp": 1594283907270,
     "user": {
      "displayName": "Tuchsanai Ploysuwan",
      "photoUrl": "",
      "userId": "05962105649382616878"
     },
     "user_tz": -420
    },
    "id": "FuEfO67KtyOZ",
    "outputId": "a7beaee1-a6af-45b0-8dac-0ea3c78efadf"
   },
   "outputs": [
    {
     "data": {
      "text/plain": [
       "matrix([[ 0.85714286],\n",
       "        [-0.28571429]])"
      ]
     },
     "execution_count": 25,
     "metadata": {
      "tags": []
     },
     "output_type": "execute_result"
    }
   ],
   "source": [
    "x = np.linalg.solve(A, b)\n",
    "x"
   ]
  },
  {
   "cell_type": "markdown",
   "metadata": {
    "colab_type": "text",
    "id": "OUh1avmtvJ9j"
   },
   "source": [
    "#แบบฝึกหัด \n",
    "\n",
    "จงหาค่า $i_1$  $i_2$   $i_3$\n",
    "\n",
    "![frfr](https://github.com/Tuchsanai/152-333-/blob/master/images/2020-07-09_15-48-34.png?raw=true)"
   ]
  },
  {
   "cell_type": "code",
   "execution_count": null,
   "metadata": {
    "colab": {},
    "colab_type": "code",
    "id": "ukggQIdhudV_"
   },
   "outputs": [],
   "source": []
  }
 ],
 "metadata": {
  "anaconda-cloud": {},
  "celltoolbar": "Tags",
  "colab": {
   "collapsed_sections": [],
   "name": "02_Linear_algebra_with_Numpy.ipynb",
   "provenance": []
  },
  "kernelspec": {
   "display_name": "Python 3",
   "language": "python",
   "name": "python3"
  },
  "language_info": {
   "codemirror_mode": {
    "name": "ipython",
    "version": 3
   },
   "file_extension": ".py",
   "mimetype": "text/x-python",
   "name": "python",
   "nbconvert_exporter": "python",
   "pygments_lexer": "ipython3",
   "version": "3.8.5"
  }
 },
 "nbformat": 4,
 "nbformat_minor": 4
}
