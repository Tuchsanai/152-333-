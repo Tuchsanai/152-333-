{
 "cells": [
  {
   "cell_type": "markdown",
   "metadata": {
    "colab_type": "text",
    "id": "C9_wlWUsm-GO"
   },
   "source": [
    "# 152-333\tElectrical Engineering Laboratory 3 \n",
    "# ปฏิบัติการทางวิศวกรรมไฟฟ้า 3"
   ]
  },
  {
   "cell_type": "markdown",
   "metadata": {
    "colab_type": "text",
    "id": "ndAVzcfVnfpE"
   },
   "source": [
    "[*ศึกษาเพิ่ม*](https://www.youtube.com/watch?v=fI9Q_haTnVI&t=87s)\n",
    "\n",
    "<iframe width=\"420\" height=\"315\"\n",
    "src=\"https://www.youtube.com/watch?v=fI9Q_haTnVI&t=87s\">\n",
    "</iframe>\n"
   ]
  },
  {
   "cell_type": "code",
   "execution_count": null,
   "metadata": {
    "colab": {
     "base_uri": "https://localhost:8080/",
     "height": 51
    },
    "colab_type": "code",
    "executionInfo": {
     "elapsed": 7001,
     "status": "ok",
     "timestamp": 1594282552730,
     "user": {
      "displayName": "Tuchsanai Ploysuwan",
      "photoUrl": "",
      "userId": "05962105649382616878"
     },
     "user_tz": -420
    },
    "id": "gxIsTfCeh2sv",
    "outputId": "005e2945-9188-4a2d-9e27-f60156c79cd8"
   },
   "outputs": [
    {
     "name": "stdout",
     "output_type": "stream",
     "text": [
      "\u001b[K     |████████████████████████████████| 256kB 2.8MB/s eta 0:00:01\n",
      "\u001b[?25h  Building wheel for control (setup.py) ... \u001b[?25l\u001b[?25hdone\n"
     ]
    }
   ],
   "source": [
    "!pip -q install -U control"
   ]
  },
  {
   "cell_type": "code",
   "execution_count": null,
   "metadata": {
    "colab": {},
    "colab_type": "code",
    "id": "B7wcPoTInUzq"
   },
   "outputs": [],
   "source": [
    "import numpy as np\n",
    "import matplotlib.pyplot as plt\n",
    "import control as co\n",
    "\n",
    "plt.rcParams['figure.figsize'] = [23,10]\n",
    "plt.rcParams['font.size'] = 24"
   ]
  },
  {
   "cell_type": "markdown",
   "metadata": {
    "colab_type": "text",
    "id": "QfLAbdv1Z4QI"
   },
   "source": [
    "\n",
    "# 1.Transfer Function\n",
    "\n",
    "The transfer function of a component is represented by a block. Block has single input and single output.\n",
    "\n",
    "The following figure shows a block having input X(s), output Y(s) and the transfer function G(s).\n",
    "\n",
    "![ข้อความแสดงแทน](https://www.tutorialspoint.com/control_systems/images/block.jpg)\n",
    "<br>  \n",
    "# $G(s)=\\frac{Y(s)}{X(s)}$\n",
    "\n",
    "# $G\\left( s \\right) = {{{a_m}{s^m} + {a_{m - 1}}{s^{m - 1}} +  \\ldots  + {a_1}{s^1} + {a_0}} \\over {{b_m}{s^n} + {b_{m - 1}}{s^{n - 1}} +  \\ldots  + {b_1}{s^1} + {b_0}}}$\n",
    "<br>\n",
    "where output  $Y(s)=G(s)X(s)$\n"
   ]
  },
  {
   "cell_type": "markdown",
   "metadata": {
    "colab_type": "text",
    "id": "tA6nLoGyip_r"
   },
   "source": [
    "# ตัวอย่าง 1.1 จงหาค่าของ\n",
    "\n",
    "# ${{2s + 5} \\over {s + 2}}$\n",
    "\n",
    "\n"
   ]
  },
  {
   "cell_type": "code",
   "execution_count": null,
   "metadata": {
    "colab": {
     "base_uri": "https://localhost:8080/",
     "height": 39
    },
    "colab_type": "code",
    "executionInfo": {
     "elapsed": 1092,
     "status": "ok",
     "timestamp": 1594177098562,
     "user": {
      "displayName": "Tuchsanai Ploysuwan",
      "photoUrl": "",
      "userId": "05962105649382616878"
     },
     "user_tz": -420
    },
    "id": "r92YxSZHif_O",
    "outputId": "3dddbb6f-917c-4e29-b68d-2d182b423fe1"
   },
   "outputs": [
    {
     "data": {
      "text/latex": [
       "$$\\frac{2 s + 5}{s + 2}$$"
      ],
      "text/plain": [
       "\n",
       "2 s + 5\n",
       "-------\n",
       " s + 2"
      ]
     },
     "execution_count": 5,
     "metadata": {
      "tags": []
     },
     "output_type": "execute_result"
    }
   ],
   "source": [
    "G1 = co.tf([2,5],[1,2])\n",
    "G1"
   ]
  },
  {
   "cell_type": "code",
   "execution_count": null,
   "metadata": {
    "colab": {},
    "colab_type": "code",
    "id": "tX2uXargX9Rm"
   },
   "outputs": [],
   "source": []
  },
  {
   "cell_type": "markdown",
   "metadata": {
    "colab_type": "text",
    "id": "PaHGccxVjsF5"
   },
   "source": [
    "#ตัวอย่าง 1.2. จงหาค่าของ\n",
    "#${{2s + 5} \\over {{s^4} - 2{s^3} + 8s + 4}}$"
   ]
  },
  {
   "cell_type": "code",
   "execution_count": null,
   "metadata": {
    "colab": {
     "base_uri": "https://localhost:8080/",
     "height": 38
    },
    "colab_type": "code",
    "executionInfo": {
     "elapsed": 968,
     "status": "ok",
     "timestamp": 1594134605020,
     "user": {
      "displayName": "Tuchsanai Ploysuwan",
      "photoUrl": "",
      "userId": "05962105649382616878"
     },
     "user_tz": -420
    },
    "id": "_cLtNEdOjbDv",
    "outputId": "0264d536-2868-4b74-f333-ba7a09947297"
   },
   "outputs": [
    {
     "data": {
      "text/latex": [
       "$$\\frac{2 s + 5}{s^4 - 2 s^3 + 8 s + 10}$$"
      ],
      "text/plain": [
       "\n",
       "        2 s + 5\n",
       "----------------------\n",
       "s^4 - 2 s^3 + 8 s + 10"
      ]
     },
     "execution_count": 25,
     "metadata": {
      "tags": []
     },
     "output_type": "execute_result"
    }
   ],
   "source": [
    "G2 = co.tf([2,5],[1,-2,0,8,10])\n",
    "G2"
   ]
  },
  {
   "cell_type": "markdown",
   "metadata": {
    "colab_type": "text",
    "id": "e6im1k3Yk7ec"
   },
   "source": [
    "#ตัวอย่าง 1.3. จงหาค่าของ\n",
    "\n",
    "#${{5s + 1} \\over {10{s^2} + 2s + 20}}$"
   ]
  },
  {
   "cell_type": "code",
   "execution_count": null,
   "metadata": {
    "colab": {
     "base_uri": "https://localhost:8080/",
     "height": 38
    },
    "colab_type": "code",
    "executionInfo": {
     "elapsed": 878,
     "status": "ok",
     "timestamp": 1594134609498,
     "user": {
      "displayName": "Tuchsanai Ploysuwan",
      "photoUrl": "",
      "userId": "05962105649382616878"
     },
     "user_tz": -420
    },
    "id": "C0Jfw0EajLiF",
    "outputId": "b9cb77d4-e8c2-437d-e343-54c8bb38d398"
   },
   "outputs": [
    {
     "data": {
      "text/latex": [
       "$$\\frac{5 s + 1}{10 s^2 + 2 s + 20}$$"
      ],
      "text/plain": [
       "\n",
       "     5 s + 1\n",
       "-----------------\n",
       "10 s^2 + 2 s + 20"
      ]
     },
     "execution_count": 26,
     "metadata": {
      "tags": []
     },
     "output_type": "execute_result"
    }
   ],
   "source": [
    "G3 = co.tf([5,1],[10,2,20])\n",
    "G3"
   ]
  },
  {
   "cell_type": "markdown",
   "metadata": {
    "colab_type": "text",
    "id": "SIU_lw70d54u"
   },
   "source": [
    "#ตัวอย่าง 1.4 จงหาค่าของ\n",
    "\n",
    "#${{5\\left( {s + 2} \\right)\\left( {s - 5} \\right)} \\over {12\\left( {s + 4} \\right)\\left( {s + 5} \\right)\\left( {s + 9} \\right)}}$\n",
    "\n",
    "\n"
   ]
  },
  {
   "cell_type": "code",
   "execution_count": null,
   "metadata": {
    "colab": {
     "base_uri": "https://localhost:8080/",
     "height": 41
    },
    "colab_type": "code",
    "executionInfo": {
     "elapsed": 1107,
     "status": "ok",
     "timestamp": 1594177111708,
     "user": {
      "displayName": "Tuchsanai Ploysuwan",
      "photoUrl": "",
      "userId": "05962105649382616878"
     },
     "user_tz": -420
    },
    "id": "b8HCOAJKiz_W",
    "outputId": "090e6903-15ad-4970-a84e-7621e5061ccb"
   },
   "outputs": [
    {
     "data": {
      "text/latex": [
       "$$\\frac{5 s^2 - 15 s - 50}{12 s^3 + 216 s^2 + 1212 s + 2160}$$"
      ],
      "text/plain": [
       "\n",
       "        5 s^2 - 15 s - 50\n",
       "--------------------------------\n",
       "12 s^3 + 216 s^2 + 1212 s + 2160"
      ]
     },
     "execution_count": 6,
     "metadata": {
      "tags": []
     },
     "output_type": "execute_result"
    }
   ],
   "source": [
    "G4 = 5*co.tf( np.poly([-2,5]), 12*np.poly([-4,-5,-9])   )\n",
    "G4"
   ]
  },
  {
   "cell_type": "markdown",
   "metadata": {
    "colab_type": "text",
    "id": "ucNINwW4ikLa"
   },
   "source": [
    "#2.การหา Pole ของระบบ\n",
    "\n"
   ]
  },
  {
   "cell_type": "code",
   "execution_count": null,
   "metadata": {
    "colab": {
     "base_uri": "https://localhost:8080/",
     "height": 34
    },
    "colab_type": "code",
    "executionInfo": {
     "elapsed": 1186,
     "status": "ok",
     "timestamp": 1594177119377,
     "user": {
      "displayName": "Tuchsanai Ploysuwan",
      "photoUrl": "",
      "userId": "05962105649382616878"
     },
     "user_tz": -420
    },
    "id": "-FclYPl6isVM",
    "outputId": "59d74f74-b514-413c-f414-54f4e3d6b29c"
   },
   "outputs": [
    {
     "data": {
      "text/plain": [
       "array([-9., -5., -4.])"
      ]
     },
     "execution_count": 7,
     "metadata": {
      "tags": []
     },
     "output_type": "execute_result"
    }
   ],
   "source": [
    "co.pole(G4)"
   ]
  },
  {
   "cell_type": "markdown",
   "metadata": {
    "colab_type": "text",
    "id": "nwioe1vblVbq"
   },
   "source": [
    "#3.การหา Zero ของระบบ"
   ]
  },
  {
   "cell_type": "code",
   "execution_count": null,
   "metadata": {
    "colab": {
     "base_uri": "https://localhost:8080/",
     "height": 34
    },
    "colab_type": "code",
    "executionInfo": {
     "elapsed": 765,
     "status": "ok",
     "timestamp": 1594177119770,
     "user": {
      "displayName": "Tuchsanai Ploysuwan",
      "photoUrl": "",
      "userId": "05962105649382616878"
     },
     "user_tz": -420
    },
    "id": "ylxdygc0lb-_",
    "outputId": "7fd92416-10c7-43ab-c0d1-03ff9eea3a1b"
   },
   "outputs": [
    {
     "data": {
      "text/plain": [
       "array([ 5., -2.])"
      ]
     },
     "execution_count": 8,
     "metadata": {
      "tags": []
     },
     "output_type": "execute_result"
    }
   ],
   "source": [
    "co.zero(G4)"
   ]
  },
  {
   "cell_type": "markdown",
   "metadata": {
    "colab_type": "text",
    "id": "-sblzo7rl-Qp"
   },
   "source": [
    "#4. Plot a pole/zero map for a linear system."
   ]
  },
  {
   "cell_type": "code",
   "execution_count": null,
   "metadata": {
    "colab": {
     "base_uri": "https://localhost:8080/",
     "height": 678
    },
    "colab_type": "code",
    "executionInfo": {
     "elapsed": 1462,
     "status": "ok",
     "timestamp": 1594177122288,
     "user": {
      "displayName": "Tuchsanai Ploysuwan",
      "photoUrl": "",
      "userId": "05962105649382616878"
     },
     "user_tz": -420
    },
    "id": "TOSiyLDolNfK",
    "outputId": "b26ed1dd-f24b-409d-ca4a-e2c028599869"
   },
   "outputs": [
    {
     "data": {
      "text/plain": [
       "(array([-9., -5., -4.]), array([ 5., -2.]))"
      ]
     },
     "execution_count": 9,
     "metadata": {
      "tags": []
     },
     "output_type": "execute_result"
    },
    {
     "data": {
      "image/png": "[encoded data removed]",
      "text/plain": [
       "<Figure size 1656x720 with 1 Axes>"
      ]
     },
     "metadata": {
      "needs_background": "light",
      "tags": []
     },
     "output_type": "display_data"
    }
   ],
   "source": [
    "co.pzmap(G4)"
   ]
  },
  {
   "cell_type": "markdown",
   "metadata": {
    "colab_type": "text",
    "id": "Tm6jvB5emJ6a"
   },
   "source": [
    "# ตัวอย่าง 4.1\n",
    "\n",
    "จงหาค่า pole และ Zero ของระบบ พร้อมทั้งทำการ Plot\n",
    "#${{2s + 5} \\over {{s^5} - 2{s^3} + 8s + 4}}$"
   ]
  },
  {
   "cell_type": "code",
   "execution_count": null,
   "metadata": {
    "colab": {
     "base_uri": "https://localhost:8080/",
     "height": 38
    },
    "colab_type": "code",
    "executionInfo": {
     "elapsed": 804,
     "status": "ok",
     "timestamp": 1594133693162,
     "user": {
      "displayName": "Tuchsanai Ploysuwan",
      "photoUrl": "",
      "userId": "05962105649382616878"
     },
     "user_tz": -420
    },
    "id": "eTqj60aImiGP",
    "outputId": "0ecb3fb4-b275-40fa-ecc1-75c707f759bf"
   },
   "outputs": [
    {
     "data": {
      "text/latex": [
       "$$\\frac{2 s + 5}{s^5 - 2 s^3 + 8 s + 4}$$"
      ],
      "text/plain": [
       "\n",
       "       2 s + 5\n",
       "---------------------\n",
       "s^5 - 2 s^3 + 8 s + 4"
      ]
     },
     "execution_count": 10,
     "metadata": {
      "tags": []
     },
     "output_type": "execute_result"
    }
   ],
   "source": [
    "G = co.tf([2,5],[1,0,-2,0,8,4])\n",
    "G"
   ]
  },
  {
   "cell_type": "code",
   "execution_count": null,
   "metadata": {
    "colab": {
     "base_uri": "https://localhost:8080/",
     "height": 34
    },
    "colab_type": "code",
    "executionInfo": {
     "elapsed": 1073,
     "status": "ok",
     "timestamp": 1594133697013,
     "user": {
      "displayName": "Tuchsanai Ploysuwan",
      "photoUrl": "",
      "userId": "05962105649382616878"
     },
     "user_tz": -420
    },
    "id": "UAdL8PBJm58Z",
    "outputId": "fa75f979-fbee-448a-ebac-409dbf9af7a1"
   },
   "outputs": [
    {
     "data": {
      "text/plain": [
       "array([-2.5])"
      ]
     },
     "execution_count": 11,
     "metadata": {
      "tags": []
     },
     "output_type": "execute_result"
    }
   ],
   "source": [
    "co.zero(G)"
   ]
  },
  {
   "cell_type": "code",
   "execution_count": null,
   "metadata": {
    "colab": {
     "base_uri": "https://localhost:8080/",
     "height": 70
    },
    "colab_type": "code",
    "executionInfo": {
     "elapsed": 740,
     "status": "ok",
     "timestamp": 1594133697014,
     "user": {
      "displayName": "Tuchsanai Ploysuwan",
      "photoUrl": "",
      "userId": "05962105649382616878"
     },
     "user_tz": -420
    },
    "id": "Bcn4sXu7uoMG",
    "outputId": "9099ff59-aed2-4ac6-a85c-923d1a65d663"
   },
   "outputs": [
    {
     "data": {
      "text/plain": [
       "array([ 1.48773549+1.00223241j,  1.48773549-1.00223241j,\n",
       "       -1.22154726+0.91802896j, -1.22154726-0.91802896j,\n",
       "       -0.53237646+0.j        ])"
      ]
     },
     "execution_count": 12,
     "metadata": {
      "tags": []
     },
     "output_type": "execute_result"
    }
   ],
   "source": [
    "co.pole(G)"
   ]
  },
  {
   "cell_type": "code",
   "execution_count": null,
   "metadata": {
    "colab": {
     "base_uri": "https://localhost:8080/",
     "height": 714
    },
    "colab_type": "code",
    "executionInfo": {
     "elapsed": 1164,
     "status": "ok",
     "timestamp": 1594133697835,
     "user": {
      "displayName": "Tuchsanai Ploysuwan",
      "photoUrl": "",
      "userId": "05962105649382616878"
     },
     "user_tz": -420
    },
    "id": "lubCuqZomk8Q",
    "outputId": "4f769d23-6905-4838-854d-ae77c1cb02ed"
   },
   "outputs": [
    {
     "data": {
      "text/plain": [
       "(array([ 1.48773549+1.00223241j,  1.48773549-1.00223241j,\n",
       "        -1.22154726+0.91802896j, -1.22154726-0.91802896j,\n",
       "        -0.53237646+0.j        ]), array([-2.5]))"
      ]
     },
     "execution_count": 13,
     "metadata": {
      "tags": []
     },
     "output_type": "execute_result"
    },
    {
     "data": {
      "image/png": "[encoded data removed]",
      "text/plain": [
       "<Figure size 1656x720 with 1 Axes>"
      ]
     },
     "metadata": {
      "needs_background": "light",
      "tags": []
     },
     "output_type": "display_data"
    }
   ],
   "source": [
    "co.pzmap(G)"
   ]
  },
  {
   "cell_type": "markdown",
   "metadata": {
    "colab_type": "text",
    "id": "vIx1ocHaspJG"
   },
   "source": [
    "#ตัวอย่าง 4.2\n",
    "\n",
    "จงหาค่า pole และ Zero ของระบบ พร้อมทั้งทำการ Plot\n",
    "#${(2s + 5)(s^{2}+s-1) \\over { (s^{3}-9s^{2} +23s-15)(s-4)(s-8)(s+9)  } }$"
   ]
  },
  {
   "cell_type": "code",
   "execution_count": null,
   "metadata": {
    "colab": {
     "base_uri": "https://localhost:8080/",
     "height": 34
    },
    "colab_type": "code",
    "executionInfo": {
     "elapsed": 1205,
     "status": "ok",
     "timestamp": 1594177138375,
     "user": {
      "displayName": "Tuchsanai Ploysuwan",
      "photoUrl": "",
      "userId": "05962105649382616878"
     },
     "user_tz": -420
    },
    "id": "1ljzC3Olm1IY",
    "outputId": "d7b1d2af-fc11-4026-fb7b-d67ba5bb94b7"
   },
   "outputs": [
    {
     "data": {
      "text/plain": [
       "array([ 2,  7,  3, -5])"
      ]
     },
     "execution_count": 10,
     "metadata": {
      "tags": []
     },
     "output_type": "execute_result"
    }
   ],
   "source": [
    " num = np.polymul( [2,5] ,[1,1,-1]   )\n",
    " num\n"
   ]
  },
  {
   "cell_type": "code",
   "execution_count": null,
   "metadata": {
    "colab": {
     "base_uri": "https://localhost:8080/",
     "height": 51
    },
    "colab_type": "code",
    "executionInfo": {
     "elapsed": 855,
     "status": "ok",
     "timestamp": 1594177138376,
     "user": {
      "displayName": "Tuchsanai Ploysuwan",
      "photoUrl": "",
      "userId": "05962105649382616878"
     },
     "user_tz": -420
    },
    "id": "OqOoYekduDcf",
    "outputId": "4a5c67ef-65bf-4c56-bd18-76f1f7d97813"
   },
   "outputs": [
    {
     "data": {
      "text/plain": [
       "array([ 1.000e+00, -1.200e+01, -2.600e+01,  8.880e+02, -4.295e+03,\n",
       "        7.764e+03, -4.320e+03])"
      ]
     },
     "execution_count": 11,
     "metadata": {
      "tags": []
     },
     "output_type": "execute_result"
    }
   ],
   "source": [
    "den =np.polymul( [1,-9,23,-15], np.poly([4,8,-9]) )\n",
    "den"
   ]
  },
  {
   "cell_type": "code",
   "execution_count": null,
   "metadata": {
    "colab": {
     "base_uri": "https://localhost:8080/",
     "height": 41
    },
    "colab_type": "code",
    "executionInfo": {
     "elapsed": 1019,
     "status": "ok",
     "timestamp": 1594177138884,
     "user": {
      "displayName": "Tuchsanai Ploysuwan",
      "photoUrl": "",
      "userId": "05962105649382616878"
     },
     "user_tz": -420
    },
    "id": "KoaB9c1buWWs",
    "outputId": "929f4822-d8d7-4f85-a700-67021563f068"
   },
   "outputs": [
    {
     "data": {
      "text/latex": [
       "$$\\frac{2 s^3 + 7 s^2 + 3 s - 5}{s^6 - 12 s^5 - 26 s^4 + 888 s^3 - 4295 s^2 + 7764 s - 4320}$$"
      ],
      "text/plain": [
       "\n",
       "                  2 s^3 + 7 s^2 + 3 s - 5\n",
       "----------------------------------------------------------\n",
       "s^6 - 12 s^5 - 26 s^4 + 888 s^3 - 4295 s^2 + 7764 s - 4320"
      ]
     },
     "execution_count": 12,
     "metadata": {
      "tags": []
     },
     "output_type": "execute_result"
    }
   ],
   "source": [
    "G = co.tf(num,den)\n",
    "G"
   ]
  },
  {
   "cell_type": "code",
   "execution_count": null,
   "metadata": {
    "colab": {
     "base_uri": "https://localhost:8080/",
     "height": 696
    },
    "colab_type": "code",
    "executionInfo": {
     "elapsed": 1463,
     "status": "ok",
     "timestamp": 1594133707045,
     "user": {
      "displayName": "Tuchsanai Ploysuwan",
      "photoUrl": "",
      "userId": "05962105649382616878"
     },
     "user_tz": -420
    },
    "id": "bKAOzL4jxMSu",
    "outputId": "9cab275c-7fc1-4bc5-8ba3-42e2d1124201"
   },
   "outputs": [
    {
     "data": {
      "text/plain": [
       "(array([-9.,  8.,  5.,  4.,  3.,  1.]),\n",
       " array([-2.5       , -1.61803399,  0.61803399]))"
      ]
     },
     "execution_count": 17,
     "metadata": {
      "tags": []
     },
     "output_type": "execute_result"
    },
    {
     "data": {
      "image/png": "[encoded data removed]",
      "text/plain": [
       "<Figure size 1656x720 with 1 Axes>"
      ]
     },
     "metadata": {
      "needs_background": "light",
      "tags": []
     },
     "output_type": "display_data"
    }
   ],
   "source": [
    "co.pzmap(G)"
   ]
  },
  {
   "cell_type": "markdown",
   "metadata": {
    "colab_type": "text",
    "id": "7dXteZdiuyRC"
   },
   "source": []
  },
  {
   "cell_type": "markdown",
   "metadata": {
    "colab_type": "text",
    "id": "ulGPtGhC0NTh"
   },
   "source": [
    "#5.Minreal : Eliminates uncontrollable or unobservable states in state-space models or cancelling pole-zero pairs in transfer functions.\n",
    "\n"
   ]
  },
  {
   "cell_type": "code",
   "execution_count": null,
   "metadata": {
    "colab": {
     "base_uri": "https://localhost:8080/",
     "height": 41
    },
    "colab_type": "code",
    "executionInfo": {
     "elapsed": 920,
     "status": "ok",
     "timestamp": 1594134401654,
     "user": {
      "displayName": "Tuchsanai Ploysuwan",
      "photoUrl": "",
      "userId": "05962105649382616878"
     },
     "user_tz": -420
    },
    "id": "D2FKACFbmlDE",
    "outputId": "1c1bc849-831e-4374-c00e-bdbc8871a7bf"
   },
   "outputs": [
    {
     "data": {
      "text/latex": [
       "$$\\frac{5 s^2 - 15 s - 50}{12 s^3 + 216 s^2 + 1212 s + 2160}$$"
      ],
      "text/plain": [
       "\n",
       "        5 s^2 - 15 s - 50\n",
       "--------------------------------\n",
       "12 s^3 + 216 s^2 + 1212 s + 2160"
      ]
     },
     "execution_count": 19,
     "metadata": {
      "tags": []
     },
     "output_type": "execute_result"
    }
   ],
   "source": [
    "G4"
   ]
  },
  {
   "cell_type": "code",
   "execution_count": null,
   "metadata": {
    "colab": {
     "base_uri": "https://localhost:8080/",
     "height": 58
    },
    "colab_type": "code",
    "executionInfo": {
     "elapsed": 903,
     "status": "ok",
     "timestamp": 1594134407425,
     "user": {
      "displayName": "Tuchsanai Ploysuwan",
      "photoUrl": "",
      "userId": "05962105649382616878"
     },
     "user_tz": -420
    },
    "id": "idq8yqSQju_A",
    "outputId": "2252fcd2-7a8b-42bb-c38d-3f6f8a155366"
   },
   "outputs": [
    {
     "name": "stdout",
     "output_type": "stream",
     "text": [
      "0 states have been removed from the model\n"
     ]
    },
    {
     "data": {
      "text/latex": [
       "$$\\frac{0.4167 s^2 - 1.25 s - 4.167}{s^3 + 18 s^2 + 101 s + 180}$$"
      ],
      "text/plain": [
       "\n",
       "0.4167 s^2 - 1.25 s - 4.167\n",
       "---------------------------\n",
       "s^3 + 18 s^2 + 101 s + 180"
      ]
     },
     "execution_count": 20,
     "metadata": {
      "tags": []
     },
     "output_type": "execute_result"
    }
   ],
   "source": [
    "co.minreal(G4)"
   ]
  },
  {
   "cell_type": "markdown",
   "metadata": {
    "colab_type": "text",
    "id": "S6vcPRthdrxX"
   },
   "source": [
    "#6. Algebra of Control System"
   ]
  },
  {
   "cell_type": "code",
   "execution_count": null,
   "metadata": {
    "colab": {
     "base_uri": "https://localhost:8080/",
     "height": 41
    },
    "colab_type": "code",
    "executionInfo": {
     "elapsed": 828,
     "status": "ok",
     "timestamp": 1594134617817,
     "user": {
      "displayName": "Tuchsanai Ploysuwan",
      "photoUrl": "",
      "userId": "05962105649382616878"
     },
     "user_tz": -420
    },
    "id": "NNlut6Otj-cP",
    "outputId": "6be831f8-6632-4670-86f6-98f0441b7693"
   },
   "outputs": [
    {
     "data": {
      "text/latex": [
       "$$\\frac{4 s^2 + 20 s + 25}{s^5 - 4 s^3 + 8 s^2 + 26 s + 20}$$"
      ],
      "text/plain": [
       "\n",
       "       4 s^2 + 20 s + 25\n",
       "-------------------------------\n",
       "s^5 - 4 s^3 + 8 s^2 + 26 s + 20"
      ]
     },
     "execution_count": 28,
     "metadata": {
      "tags": []
     },
     "output_type": "execute_result"
    }
   ],
   "source": [
    "G5 = G1*G2\n",
    "G5"
   ]
  },
  {
   "cell_type": "code",
   "execution_count": null,
   "metadata": {
    "colab": {
     "base_uri": "https://localhost:8080/",
     "height": 41
    },
    "colab_type": "code",
    "executionInfo": {
     "elapsed": 924,
     "status": "ok",
     "timestamp": 1594134657592,
     "user": {
      "displayName": "Tuchsanai Ploysuwan",
      "photoUrl": "",
      "userId": "05962105649382616878"
     },
     "user_tz": -420
    },
    "id": "yh0dXWd5dw-n",
    "outputId": "47ebb38b-6f15-4a3b-c8fc-8b8ea6d5ef3c"
   },
   "outputs": [
    {
     "data": {
      "text/latex": [
       "$$\\frac{2 s^5 + s^4 - 10 s^3 + 16 s^2 + 60 s + 50}{2 s^2 + 9 s + 10}$$"
      ],
      "text/plain": [
       "\n",
       "2 s^5 + s^4 - 10 s^3 + 16 s^2 + 60 s + 50\n",
       "-----------------------------------------\n",
       "            2 s^2 + 9 s + 10"
      ]
     },
     "execution_count": 32,
     "metadata": {
      "tags": []
     },
     "output_type": "execute_result"
    }
   ],
   "source": [
    "G6 = G1/G2\n",
    "G6"
   ]
  },
  {
   "cell_type": "code",
   "execution_count": null,
   "metadata": {
    "colab": {
     "base_uri": "https://localhost:8080/",
     "height": 41
    },
    "colab_type": "code",
    "executionInfo": {
     "elapsed": 903,
     "status": "ok",
     "timestamp": 1594134692264,
     "user": {
      "displayName": "Tuchsanai Ploysuwan",
      "photoUrl": "",
      "userId": "05962105649382616878"
     },
     "user_tz": -420
    },
    "id": "8sEDgh1DeVhx",
    "outputId": "c9652c58-50b7-4352-9991-46ad79817b43"
   },
   "outputs": [
    {
     "data": {
      "text/latex": [
       "$$\\frac{s^{11} + 2 s^{10} - 8 s^9 + 16 s^8 + 228 s^7 + 392 s^6 - 248 s^5 + 225 s^4 + 7578 s^3 + 1.923 \\times 10^{4} s^2 + 2.010 \\times 10^{4} s + 8300}{2 s^{11} + 5 s^{10} - 16 s^9 - 6 s^8 + 229 s^7 + 312 s^6 - 424 s^5 - 164 s^4 + 3794 s^3 + 8208 s^2 + 7080 s + 2400}$$"
      ],
      "text/plain": [
       "\n",
       "s^11 + 2 s^10 - 8 s^9 + 16 s^8 + 228 s^7 + 392 s^6 - 248 s^5 + 225 s^4 + 7578 s^3 + 1.923e+04 s^2 + 2.010e+04 s + 8300\n",
       "----------------------------------------------------------------------------------------------------------------------\n",
       "    2 s^11 + 5 s^10 - 16 s^9 - 6 s^8 + 229 s^7 + 312 s^6 - 424 s^5 - 164 s^4 + 3794 s^3 + 8208 s^2 + 7080 s + 2400"
      ]
     },
     "execution_count": 34,
     "metadata": {
      "tags": []
     },
     "output_type": "execute_result"
    }
   ],
   "source": [
    "G7 = G1*G3 + 1/(G1+G2)\n",
    "G7"
   ]
  },
  {
   "cell_type": "code",
   "execution_count": null,
   "metadata": {
    "colab": {},
    "colab_type": "code",
    "id": "tYC4RIuw1Opz"
   },
   "outputs": [],
   "source": []
  },
  {
   "cell_type": "code",
   "execution_count": null,
   "metadata": {
    "colab": {},
    "colab_type": "code",
    "id": "hqLweSoMXOnm"
   },
   "outputs": [],
   "source": []
  }
 ],
 "metadata": {
  "colab": {
   "authorship_tag": "ABX9TyOMMvJ1c3QpsXiiTWG2PUny",
   "collapsed_sections": [],
   "name": "04_TransferFunction_I.ipynb",
   "provenance": [
    {
     "file_id": "1fjPY0SDf-mI5lcHjQ3oDp9tiv54TFo-u",
     "timestamp": 1592351724675
    }
   ]
  },
  "kernelspec": {
   "display_name": "Python 3",
   "language": "python",
   "name": "python3"
  },
  "language_info": {
   "codemirror_mode": {
    "name": "ipython",
    "version": 3
   },
   "file_extension": ".py",
   "mimetype": "text/x-python",
   "name": "python",
   "nbconvert_exporter": "python",
   "pygments_lexer": "ipython3",
   "version": "3.8.5"
  }
 },
 "nbformat": 4,
 "nbformat_minor": 4
}
