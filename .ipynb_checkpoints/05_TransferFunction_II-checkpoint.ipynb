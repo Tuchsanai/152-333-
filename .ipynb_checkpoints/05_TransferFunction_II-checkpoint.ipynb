{
 "cells": [
  {
   "cell_type": "markdown",
   "metadata": {
    "colab_type": "text",
    "id": "esqyVqGFTV0e"
   },
   "source": [
    "# 152-333\tElectrical Engineering Laboratory 3 \n",
    "# ปฏิบัติการทางวิศวกรรมไฟฟ้า 3"
   ]
  },
  {
   "cell_type": "markdown",
   "metadata": {
    "colab_type": "text",
    "id": "ndAVzcfVnfpE"
   },
   "source": [
    "[*ศึกษาเพิ่ม*](https://www.youtube.com/watch?v=fI9Q_haTnVI&t=87s)\n",
    "\n",
    "<iframe width=\"420\" height=\"315\"\n",
    "src=\"https://www.youtube.com/watch?v=fI9Q_haTnVI&t=87s\">\n",
    "</iframe>\n"
   ]
  },
  {
   "cell_type": "code",
   "execution_count": null,
   "metadata": {
    "colab": {},
    "colab_type": "code",
    "id": "gxIsTfCeh2sv"
   },
   "outputs": [],
   "source": [
    "!pip -q install -U control"
   ]
  },
  {
   "cell_type": "code",
   "execution_count": null,
   "metadata": {
    "colab": {},
    "colab_type": "code",
    "id": "lJaEoHjbiSF7"
   },
   "outputs": [],
   "source": [
    "import numpy as np\n",
    "import matplotlib.pyplot as plt\n",
    "import control as co\n",
    "\n",
    "plt.rcParams['figure.figsize'] = [23,10]\n",
    "plt.rcParams['font.size'] = 24"
   ]
  },
  {
   "cell_type": "markdown",
   "metadata": {
    "colab_type": "text",
    "id": "qttxxTs72x3d"
   },
   "source": [
    "#1.Series Connection\n",
    "Series Connection  is also called cascade connection.\n",
    "\n",
    "![series1](https://www.tutorialspoint.com/control_systems/images/series_connection.jpg)\n",
    "\n",
    "![series2](https://www.tutorialspoint.com/control_systems/images/equivalent_block_diagram.jpg)\n",
    "\n",
    "Where\n",
    "#$G(s) = G_1(s)G_2(s)$"
   ]
  },
  {
   "cell_type": "code",
   "execution_count": null,
   "metadata": {
    "colab": {
     "base_uri": "https://localhost:8080/",
     "height": 39
    },
    "colab_type": "code",
    "executionInfo": {
     "elapsed": 821,
     "status": "ok",
     "timestamp": 1594273867155,
     "user": {
      "displayName": "Tuchsanai Ploysuwan",
      "photoUrl": "",
      "userId": "05962105649382616878"
     },
     "user_tz": -420
    },
    "id": "_0123RCc3Wt0",
    "outputId": "05776973-9244-4700-a2b4-35c7ab693594"
   },
   "outputs": [
    {
     "data": {
      "text/latex": [
       "$$\\frac{2 s + 5}{s + 2}$$"
      ],
      "text/plain": [
       "\n",
       "2 s + 5\n",
       "-------\n",
       " s + 2"
      ]
     },
     "execution_count": 7,
     "metadata": {
      "tags": []
     },
     "output_type": "execute_result"
    }
   ],
   "source": [
    "G1 = co.tf([2,5],[1,2])\n",
    "G1"
   ]
  },
  {
   "cell_type": "code",
   "execution_count": null,
   "metadata": {
    "colab": {
     "base_uri": "https://localhost:8080/",
     "height": 39
    },
    "colab_type": "code",
    "executionInfo": {
     "elapsed": 10781,
     "status": "ok",
     "timestamp": 1594273852069,
     "user": {
      "displayName": "Tuchsanai Ploysuwan",
      "photoUrl": "",
      "userId": "05962105649382616878"
     },
     "user_tz": -420
    },
    "id": "zqauSHDI7JjA",
    "outputId": "64130989-222c-4c87-f181-d1e7be0c0b54"
   },
   "outputs": [
    {
     "data": {
      "text/latex": [
       "$$\\frac{2 s + 5}{s^4 - 2 s^3 + 8 s + 10}$$"
      ],
      "text/plain": [
       "\n",
       "        2 s + 5\n",
       "----------------------\n",
       "s^4 - 2 s^3 + 8 s + 10"
      ]
     },
     "execution_count": 4,
     "metadata": {
      "tags": []
     },
     "output_type": "execute_result"
    }
   ],
   "source": [
    "G2 = co.tf([2,5],[1,-2,0,8,10])\n",
    "G2"
   ]
  },
  {
   "cell_type": "code",
   "execution_count": null,
   "metadata": {
    "colab": {
     "base_uri": "https://localhost:8080/",
     "height": 41
    },
    "colab_type": "code",
    "executionInfo": {
     "elapsed": 10777,
     "status": "ok",
     "timestamp": 1594273852070,
     "user": {
      "displayName": "Tuchsanai Ploysuwan",
      "photoUrl": "",
      "userId": "05962105649382616878"
     },
     "user_tz": -420
    },
    "id": "pjmUdfcK7Jk2",
    "outputId": "a448bd95-2387-4780-c649-b9f5c6083727"
   },
   "outputs": [
    {
     "data": {
      "text/latex": [
       "$$\\frac{4 s^2 + 20 s + 25}{s^5 - 4 s^3 + 8 s^2 + 26 s + 20}$$"
      ],
      "text/plain": [
       "\n",
       "       4 s^2 + 20 s + 25\n",
       "-------------------------------\n",
       "s^5 - 4 s^3 + 8 s^2 + 26 s + 20"
      ]
     },
     "execution_count": 5,
     "metadata": {
      "tags": []
     },
     "output_type": "execute_result"
    }
   ],
   "source": [
    "G = co.series(G1,G2)\n",
    "G"
   ]
  },
  {
   "cell_type": "code",
   "execution_count": null,
   "metadata": {
    "colab": {
     "base_uri": "https://localhost:8080/",
     "height": 41
    },
    "colab_type": "code",
    "executionInfo": {
     "elapsed": 7610,
     "status": "ok",
     "timestamp": 1594140615085,
     "user": {
      "displayName": "Tuchsanai Ploysuwan",
      "photoUrl": "",
      "userId": "05962105649382616878"
     },
     "user_tz": -420
    },
    "id": "-iABGLGI7XQs",
    "outputId": "87da285e-a1ba-4c6a-e6f1-f0f92829dc96"
   },
   "outputs": [
    {
     "data": {
      "text/latex": [
       "$$\\frac{4 s^2 + 20 s + 25}{s^5 - 4 s^3 + 8 s^2 + 26 s + 20}$$"
      ],
      "text/plain": [
       "\n",
       "       4 s^2 + 20 s + 25\n",
       "-------------------------------\n",
       "s^5 - 4 s^3 + 8 s^2 + 26 s + 20"
      ]
     },
     "execution_count": 33,
     "metadata": {
      "tags": []
     },
     "output_type": "execute_result"
    }
   ],
   "source": [
    "G = G1*G2\n",
    "G"
   ]
  },
  {
   "cell_type": "markdown",
   "metadata": {
    "colab_type": "text",
    "id": "QfLAbdv1Z4QI"
   },
   "source": [
    "\n",
    "#2.Parallel Connection\n",
    "\n",
    "\n",
    "![parrel1](https://www.tutorialspoint.com/control_systems/images/parallel_connection.jpg)\n",
    "<br>  \n",
    "\n",
    "![parrel2](https://www.tutorialspoint.com/control_systems/images/equivalent_parallel.jpg)\n",
    "\n",
    "\n",
    "#$G(s)=\\frac{Y(s)}{X(s)}$\n",
    "\n",
    "#$G(s)=G_1(s)+G_2(s)$\n",
    "\n",
    "\n",
    "where  output  $Y(s)=G(s)X(s)$\n"
   ]
  },
  {
   "cell_type": "code",
   "execution_count": null,
   "metadata": {
    "colab": {
     "base_uri": "https://localhost:8080/",
     "height": 41
    },
    "colab_type": "code",
    "executionInfo": {
     "elapsed": 7603,
     "status": "ok",
     "timestamp": 1594140615085,
     "user": {
      "displayName": "Tuchsanai Ploysuwan",
      "photoUrl": "",
      "userId": "05962105649382616878"
     },
     "user_tz": -420
    },
    "id": "y6449Tul7I9u",
    "outputId": "2bb917b6-3dd7-4dab-8aac-43076f065e1c"
   },
   "outputs": [
    {
     "data": {
      "text/latex": [
       "$$\\frac{2 s^5 + s^4 - 10 s^3 + 18 s^2 + 69 s + 60}{s^5 - 4 s^3 + 8 s^2 + 26 s + 20}$$"
      ],
      "text/plain": [
       "\n",
       "2 s^5 + s^4 - 10 s^3 + 18 s^2 + 69 s + 60\n",
       "-----------------------------------------\n",
       "     s^5 - 4 s^3 + 8 s^2 + 26 s + 20"
      ]
     },
     "execution_count": 34,
     "metadata": {
      "tags": []
     },
     "output_type": "execute_result"
    }
   ],
   "source": [
    "G = co.parallel(G1,G2)\n",
    "G"
   ]
  },
  {
   "cell_type": "code",
   "execution_count": null,
   "metadata": {
    "colab": {
     "base_uri": "https://localhost:8080/",
     "height": 41
    },
    "colab_type": "code",
    "executionInfo": {
     "elapsed": 7597,
     "status": "ok",
     "timestamp": 1594140615086,
     "user": {
      "displayName": "Tuchsanai Ploysuwan",
      "photoUrl": "",
      "userId": "05962105649382616878"
     },
     "user_tz": -420
    },
    "id": "oEvyhQvt38Cp",
    "outputId": "172658e0-335c-4864-817b-61dcfe0b597f"
   },
   "outputs": [
    {
     "data": {
      "text/latex": [
       "$$\\frac{2 s^5 + s^4 - 10 s^3 + 18 s^2 + 69 s + 60}{s^5 - 4 s^3 + 8 s^2 + 26 s + 20}$$"
      ],
      "text/plain": [
       "\n",
       "2 s^5 + s^4 - 10 s^3 + 18 s^2 + 69 s + 60\n",
       "-----------------------------------------\n",
       "     s^5 - 4 s^3 + 8 s^2 + 26 s + 20"
      ]
     },
     "execution_count": 35,
     "metadata": {
      "tags": []
     },
     "output_type": "execute_result"
    }
   ],
   "source": [
    "G = G1+G2\n",
    "G"
   ]
  },
  {
   "cell_type": "markdown",
   "metadata": {
    "colab_type": "text",
    "id": "GADNigoB35jD"
   },
   "source": [
    "#3. Feedback Connection\n",
    "\n",
    "![feedback1](https://www.tutorialspoint.com/control_systems/images/feedback_connection.jpg)\n",
    "\n",
    "![feedback2](https://www.tutorialspoint.com/control_systems/images/equivalent_feedback.jpg)\n",
    "\n",
    "$ Y(s) = \\left\\{ {X(s) - H(s)Y(s)\\} G(s)} \\right\\} $ \n",
    "<br><br>\n",
    "$Y(s)\\left\\{ {1 + G(s)H(s)} \\right\\} = X(s)G(s)$\n",
    "<br><br>\n",
    "$G\\left( s \\right) = {{Y(s)} \\over {X(s)}} = {{G(s)} \\over {1 + G(s)H(s)}}$\n",
    "\n",
    "#Noted that for  positive feedback\n",
    "$G\\left( s \\right) = {{Y(s)} \\over {X(s)}} = {{G(s)} \\over {1 - G(s)H(s)}}$\n"
   ]
  },
  {
   "cell_type": "code",
   "execution_count": null,
   "metadata": {
    "colab": {
     "base_uri": "https://localhost:8080/",
     "height": 41
    },
    "colab_type": "code",
    "executionInfo": {
     "elapsed": 7590,
     "status": "ok",
     "timestamp": 1594140615086,
     "user": {
      "displayName": "Tuchsanai Ploysuwan",
      "photoUrl": "",
      "userId": "05962105649382616878"
     },
     "user_tz": -420
    },
    "id": "3BVzxkqM35Cy",
    "outputId": "cda1ecd7-2fcd-4d35-9c57-c7aed8a05645"
   },
   "outputs": [
    {
     "data": {
      "text/latex": [
       "$$\\frac{2 s^5 + s^4 - 10 s^3 + 16 s^2 + 60 s + 50}{s^5 - 4 s^3 + 12 s^2 + 46 s + 45}$$"
      ],
      "text/plain": [
       "\n",
       "2 s^5 + s^4 - 10 s^3 + 16 s^2 + 60 s + 50\n",
       "-----------------------------------------\n",
       "    s^5 - 4 s^3 + 12 s^2 + 46 s + 45"
      ]
     },
     "execution_count": 36,
     "metadata": {
      "tags": []
     },
     "output_type": "execute_result"
    }
   ],
   "source": [
    "G = co.feedback(G1,G2,-1)\n",
    "G"
   ]
  },
  {
   "cell_type": "code",
   "execution_count": null,
   "metadata": {
    "colab": {
     "base_uri": "https://localhost:8080/",
     "height": 58
    },
    "colab_type": "code",
    "executionInfo": {
     "elapsed": 1139,
     "status": "ok",
     "timestamp": 1594140717092,
     "user": {
      "displayName": "Tuchsanai Ploysuwan",
      "photoUrl": "",
      "userId": "05962105649382616878"
     },
     "user_tz": -420
    },
    "id": "af_0V3cZMKln",
    "outputId": "26499340-359c-4ad3-a5b9-3dbcd7e63ba9"
   },
   "outputs": [
    {
     "name": "stdout",
     "output_type": "stream",
     "text": [
      "1 states have been removed from the model\n"
     ]
    },
    {
     "data": {
      "text/latex": [
       "$$\\frac{2 s^5 + s^4 - 10 s^3 + 16 s^2 + 60 s + 50}{s^5 - 3.73 \\times 10^{-14} s^4 - 4 s^3 + 12 s^2 + 46 s + 45}$$"
      ],
      "text/plain": [
       "\n",
       "   2 s^5 + s^4 - 10 s^3 + 16 s^2 + 60 s + 50\n",
       "-----------------------------------------------\n",
       "s^5 - 3.73e-14 s^4 - 4 s^3 + 12 s^2 + 46 s + 45"
      ]
     },
     "execution_count": 39,
     "metadata": {
      "tags": []
     },
     "output_type": "execute_result"
    }
   ],
   "source": [
    "co.minreal(G)"
   ]
  },
  {
   "cell_type": "code",
   "execution_count": null,
   "metadata": {
    "colab": {
     "base_uri": "https://localhost:8080/",
     "height": 41
    },
    "colab_type": "code",
    "executionInfo": {
     "elapsed": 7584,
     "status": "ok",
     "timestamp": 1594140615086,
     "user": {
      "displayName": "Tuchsanai Ploysuwan",
      "photoUrl": "",
      "userId": "05962105649382616878"
     },
     "user_tz": -420
    },
    "id": "nMkud1Kf35By",
    "outputId": "e7597720-7597-4a2e-d769-0b6b6c4f1927"
   },
   "outputs": [
    {
     "data": {
      "text/latex": [
       "$$\\frac{2 s^6 + 5 s^5 - 8 s^4 - 4 s^3 + 92 s^2 + 170 s + 100}{s^6 + 2 s^5 - 4 s^4 + 4 s^3 + 70 s^2 + 137 s + 90}$$"
      ],
      "text/plain": [
       "\n",
       "2 s^6 + 5 s^5 - 8 s^4 - 4 s^3 + 92 s^2 + 170 s + 100\n",
       "----------------------------------------------------\n",
       "  s^6 + 2 s^5 - 4 s^4 + 4 s^3 + 70 s^2 + 137 s + 90"
      ]
     },
     "execution_count": 37,
     "metadata": {
      "tags": []
     },
     "output_type": "execute_result"
    }
   ],
   "source": [
    "G = G1/(1+G1*G2)\n",
    "G"
   ]
  },
  {
   "cell_type": "code",
   "execution_count": null,
   "metadata": {
    "colab": {
     "base_uri": "https://localhost:8080/",
     "height": 58
    },
    "colab_type": "code",
    "executionInfo": {
     "elapsed": 1141,
     "status": "ok",
     "timestamp": 1594140648701,
     "user": {
      "displayName": "Tuchsanai Ploysuwan",
      "photoUrl": "",
      "userId": "05962105649382616878"
     },
     "user_tz": -420
    },
    "id": "tYC4RIuw1Opz",
    "outputId": "275b53a5-2b5a-462b-d0c6-32ac45909f0c"
   },
   "outputs": [
    {
     "name": "stdout",
     "output_type": "stream",
     "text": [
      "1 states have been removed from the model\n"
     ]
    },
    {
     "data": {
      "text/latex": [
       "$$\\frac{2 s^5 + s^4 - 10 s^3 + 16 s^2 + 60 s + 50}{s^5 - 3.73 \\times 10^{-14} s^4 - 4 s^3 + 12 s^2 + 46 s + 45}$$"
      ],
      "text/plain": [
       "\n",
       "   2 s^5 + s^4 - 10 s^3 + 16 s^2 + 60 s + 50\n",
       "-----------------------------------------------\n",
       "s^5 - 3.73e-14 s^4 - 4 s^3 + 12 s^2 + 46 s + 45"
      ]
     },
     "execution_count": 38,
     "metadata": {
      "tags": []
     },
     "output_type": "execute_result"
    }
   ],
   "source": [
    "co.minreal(G)"
   ]
  },
  {
   "cell_type": "markdown",
   "metadata": {
    "colab_type": "text",
    "id": "kTtUWYbsDaMd"
   },
   "source": [
    "#ตัวอย่าง 4. จงหา Transfer function ของระบบต่อไปนี้ \n",
    "\n",
    "กำหนดให้ \n",
    "\n",
    "![ddfeed011](https://raw.githubusercontent.com/Tuchsanai/152-333-/master/images/feedback01120200709122641.png)"
   ]
  },
  {
   "cell_type": "code",
   "execution_count": null,
   "metadata": {
    "colab": {
     "base_uri": "https://localhost:8080/",
     "height": 39
    },
    "colab_type": "code",
    "executionInfo": {
     "elapsed": 954,
     "status": "ok",
     "timestamp": 1594276260742,
     "user": {
      "displayName": "Tuchsanai Ploysuwan",
      "photoUrl": "",
      "userId": "05962105649382616878"
     },
     "user_tz": -420
    },
    "id": "u5NRU7l4L94A",
    "outputId": "f89f22b0-6f3b-4e1d-8fce-7082d660da32"
   },
   "outputs": [
    {
     "data": {
      "text/latex": [
       "$$\\frac{2 s - 3}{s^5 - 2 s + 5}$$"
      ],
      "text/plain": [
       "\n",
       "   2 s - 3\n",
       "-------------\n",
       "s^5 - 2 s + 5"
      ]
     },
     "execution_count": 40,
     "metadata": {
      "tags": []
     },
     "output_type": "execute_result"
    }
   ],
   "source": [
    "G1 = co.tf([2,-3],[1,0,0,0,-2,5])\n",
    "G1"
   ]
  },
  {
   "cell_type": "code",
   "execution_count": null,
   "metadata": {
    "colab": {
     "base_uri": "https://localhost:8080/",
     "height": 39
    },
    "colab_type": "code",
    "executionInfo": {
     "elapsed": 680,
     "status": "ok",
     "timestamp": 1594276260743,
     "user": {
      "displayName": "Tuchsanai Ploysuwan",
      "photoUrl": "",
      "userId": "05962105649382616878"
     },
     "user_tz": -420
    },
    "id": "XtHI_sfNIbGL",
    "outputId": "79c855e8-d6a8-4a71-fc9b-c8c003ce519e"
   },
   "outputs": [
    {
     "data": {
      "text/latex": [
       "$$\\frac{1}{2 s + 7}$$"
      ],
      "text/plain": [
       "\n",
       "   1\n",
       "-------\n",
       "2 s + 7"
      ]
     },
     "execution_count": 41,
     "metadata": {
      "tags": []
     },
     "output_type": "execute_result"
    }
   ],
   "source": [
    "G2 = co.tf([1],[2,7])\n",
    "G2"
   ]
  },
  {
   "cell_type": "code",
   "execution_count": null,
   "metadata": {
    "colab": {
     "base_uri": "https://localhost:8080/",
     "height": 39
    },
    "colab_type": "code",
    "executionInfo": {
     "elapsed": 659,
     "status": "ok",
     "timestamp": 1594276261060,
     "user": {
      "displayName": "Tuchsanai Ploysuwan",
      "photoUrl": "",
      "userId": "05962105649382616878"
     },
     "user_tz": -420
    },
    "id": "cpftTX0QInKa",
    "outputId": "76dd6a7e-3d89-407a-9591-a6229fce8d31"
   },
   "outputs": [
    {
     "data": {
      "text/latex": [
       "$$\\frac{s}{2 s^4 - 3}$$"
      ],
      "text/plain": [
       "\n",
       "    s\n",
       "---------\n",
       "2 s^4 - 3"
      ]
     },
     "execution_count": 42,
     "metadata": {
      "tags": []
     },
     "output_type": "execute_result"
    }
   ],
   "source": [
    "G3 = co.tf([1,0],[2,0,0,0,-3])\n",
    "G3"
   ]
  },
  {
   "cell_type": "code",
   "execution_count": null,
   "metadata": {
    "colab": {
     "base_uri": "https://localhost:8080/",
     "height": 38
    },
    "colab_type": "code",
    "executionInfo": {
     "elapsed": 706,
     "status": "ok",
     "timestamp": 1594276261503,
     "user": {
      "displayName": "Tuchsanai Ploysuwan",
      "photoUrl": "",
      "userId": "05962105649382616878"
     },
     "user_tz": -420
    },
    "id": "4E88FlMHJ0lU",
    "outputId": "b724c802-e9f3-428d-bd3b-7e8a1792844a"
   },
   "outputs": [
    {
     "data": {
      "text/latex": [
       "$$\\frac{1}{1}$$"
      ],
      "text/plain": [
       "\n",
       "1\n",
       "-\n",
       "1"
      ]
     },
     "execution_count": 43,
     "metadata": {
      "tags": []
     },
     "output_type": "execute_result"
    }
   ],
   "source": [
    "H1= co.tf([1],[1])\n",
    "H1"
   ]
  },
  {
   "cell_type": "code",
   "execution_count": null,
   "metadata": {
    "colab": {
     "base_uri": "https://localhost:8080/",
     "height": 39
    },
    "colab_type": "code",
    "executionInfo": {
     "elapsed": 920,
     "status": "ok",
     "timestamp": 1594276262300,
     "user": {
      "displayName": "Tuchsanai Ploysuwan",
      "photoUrl": "",
      "userId": "05962105649382616878"
     },
     "user_tz": -420
    },
    "id": "sqbIuT6_LYH-",
    "outputId": "9c0360f3-2b42-417f-dd58-743de0a15c5f"
   },
   "outputs": [
    {
     "data": {
      "text/latex": [
       "$$\\frac{1}{2 s + 1}$$"
      ],
      "text/plain": [
       "\n",
       "   1\n",
       "-------\n",
       "2 s + 1"
      ]
     },
     "execution_count": 44,
     "metadata": {
      "tags": []
     },
     "output_type": "execute_result"
    }
   ],
   "source": [
    "H2 = co.tf([1],[2,1])\n",
    "H2"
   ]
  },
  {
   "cell_type": "code",
   "execution_count": null,
   "metadata": {
    "colab": {
     "base_uri": "https://localhost:8080/",
     "height": 39
    },
    "colab_type": "code",
    "executionInfo": {
     "elapsed": 729,
     "status": "ok",
     "timestamp": 1594276263106,
     "user": {
      "displayName": "Tuchsanai Ploysuwan",
      "photoUrl": "",
      "userId": "05962105649382616878"
     },
     "user_tz": -420
    },
    "id": "ZtvQ15MALqB8",
    "outputId": "199d58ac-8dd8-4a87-d8d8-46e4e80536b4"
   },
   "outputs": [
    {
     "data": {
      "text/latex": [
       "$$\\frac{1}{2 s - 1}$$"
      ],
      "text/plain": [
       "\n",
       "   1\n",
       "-------\n",
       "2 s - 1"
      ]
     },
     "execution_count": 45,
     "metadata": {
      "tags": []
     },
     "output_type": "execute_result"
    }
   ],
   "source": [
    "H3 = co.tf([1],[2,-1])\n",
    "H3"
   ]
  },
  {
   "cell_type": "markdown",
   "metadata": {
    "colab_type": "text",
    "id": "wUS3TLlhRzMr"
   },
   "source": [
    "วิธีที่ 1"
   ]
  },
  {
   "cell_type": "code",
   "execution_count": null,
   "metadata": {
    "colab": {
     "base_uri": "https://localhost:8080/",
     "height": 39
    },
    "colab_type": "code",
    "executionInfo": {
     "elapsed": 919,
     "status": "ok",
     "timestamp": 1594276202781,
     "user": {
      "displayName": "Tuchsanai Ploysuwan",
      "photoUrl": "",
      "userId": "05962105649382616878"
     },
     "user_tz": -420
    },
    "id": "c58aQCQPLzlM",
    "outputId": "167cf7fa-7d1e-4cd6-b731-801af085334e"
   },
   "outputs": [
    {
     "data": {
      "text/latex": [
       "$$\\frac{s}{4 s^5 + 14 s^4 - 5 s - 21}$$"
      ],
      "text/plain": [
       "\n",
       "            s\n",
       "-------------------------\n",
       "4 s^5 + 14 s^4 - 5 s - 21"
      ]
     },
     "execution_count": 33,
     "metadata": {
      "tags": []
     },
     "output_type": "execute_result"
    }
   ],
   "source": [
    "Gx1 = co.feedback( G2*G3, H1 ,-1)\n",
    "Gx1"
   ]
  },
  {
   "cell_type": "code",
   "execution_count": null,
   "metadata": {
    "colab": {
     "base_uri": "https://localhost:8080/",
     "height": 41
    },
    "colab_type": "code",
    "executionInfo": {
     "elapsed": 923,
     "status": "ok",
     "timestamp": 1594276203117,
     "user": {
      "displayName": "Tuchsanai Ploysuwan",
      "photoUrl": "",
      "userId": "05962105649382616878"
     },
     "user_tz": -420
    },
    "id": "Qyi8at-IPzWw",
    "outputId": "d37ae8ea-99de-49de-8c7a-d64658ad7307"
   },
   "outputs": [
    {
     "data": {
      "text/latex": [
       "$$\\frac{2 s^2 + s}{8 s^6 + 32 s^5 + 14 s^4 - 10 s^2 - 48 s - 21}$$"
      ],
      "text/plain": [
       "\n",
       "                  2 s^2 + s\n",
       "--------------------------------------------\n",
       "8 s^6 + 32 s^5 + 14 s^4 - 10 s^2 - 48 s - 21"
      ]
     },
     "execution_count": 34,
     "metadata": {
      "tags": []
     },
     "output_type": "execute_result"
    }
   ],
   "source": [
    "Gx2 = co.feedback( Gx1,H2,+1 )\n",
    "Gx2"
   ]
  },
  {
   "cell_type": "code",
   "execution_count": null,
   "metadata": {
    "colab": {
     "base_uri": "https://localhost:8080/",
     "height": 41
    },
    "colab_type": "code",
    "executionInfo": {
     "elapsed": 25653,
     "status": "ok",
     "timestamp": 1594276228317,
     "user": {
      "displayName": "Tuchsanai Ploysuwan",
      "photoUrl": "",
      "userId": "05962105649382616878"
     },
     "user_tz": -420
    },
    "id": "oEkutz7mQJzN",
    "outputId": "c4ba5e5d-116e-4964-d4ca-fa99354a5d52"
   },
   "outputs": [
    {
     "data": {
      "text/latex": [
       "$$\\frac{4 s^3 - s}{16 s^7 + 56 s^6 - 4 s^5 - 14 s^4 - 20 s^3 - 84 s^2 + 7 s + 21}$$"
      ],
      "text/plain": [
       "\n",
       "                          4 s^3 - s\n",
       "-------------------------------------------------------------\n",
       "16 s^7 + 56 s^6 - 4 s^5 - 14 s^4 - 20 s^3 - 84 s^2 + 7 s + 21"
      ]
     },
     "execution_count": 35,
     "metadata": {
      "tags": []
     },
     "output_type": "execute_result"
    }
   ],
   "source": [
    "Gx3 = co.feedback(Gx2,H3,-1)\n",
    "Gx3"
   ]
  },
  {
   "cell_type": "code",
   "execution_count": null,
   "metadata": {
    "colab": {
     "base_uri": "https://localhost:8080/",
     "height": 41
    },
    "colab_type": "code",
    "executionInfo": {
     "elapsed": 24903,
     "status": "ok",
     "timestamp": 1594276228319,
     "user": {
      "displayName": "Tuchsanai Ploysuwan",
      "photoUrl": "",
      "userId": "05962105649382616878"
     },
     "user_tz": -420
    },
    "id": "Z2IIpaloQR-F",
    "outputId": "d95f0095-3f7c-4ad2-da8e-0ee370a2f2b8"
   },
   "outputs": [
    {
     "data": {
      "text/latex": [
       "$$\\frac{8 s^4 - 12 s^3 - 2 s^2 + 3 s}{16 s^{12} + 56 s^{11} - 4 s^{10} - 14 s^9 - 52 s^8 - 116 s^7 + 295 s^6 + 29 s^5 - 30 s^4 + 68 s^3 - 434 s^2 - 7 s + 105}$$"
      ],
      "text/plain": [
       "\n",
       "                                          8 s^4 - 12 s^3 - 2 s^2 + 3 s\n",
       "-----------------------------------------------------------------------------------------------------------------\n",
       "16 s^12 + 56 s^11 - 4 s^10 - 14 s^9 - 52 s^8 - 116 s^7 + 295 s^6 + 29 s^5 - 30 s^4 + 68 s^3 - 434 s^2 - 7 s + 105"
      ]
     },
     "execution_count": 36,
     "metadata": {
      "tags": []
     },
     "output_type": "execute_result"
    }
   ],
   "source": [
    "Gall = G1*Gx3\n",
    "Gall"
   ]
  },
  {
   "cell_type": "code",
   "execution_count": null,
   "metadata": {
    "colab": {
     "base_uri": "https://localhost:8080/",
     "height": 58
    },
    "colab_type": "code",
    "executionInfo": {
     "elapsed": 23301,
     "status": "ok",
     "timestamp": 1594276228320,
     "user": {
      "displayName": "Tuchsanai Ploysuwan",
      "photoUrl": "",
      "userId": "05962105649382616878"
     },
     "user_tz": -420
    },
    "id": "MDqQ5rjUQ-Y-",
    "outputId": "0234dde0-e148-4121-cf0b-70b07e399110"
   },
   "outputs": [
    {
     "name": "stdout",
     "output_type": "stream",
     "text": [
      "0 states have been removed from the model\n"
     ]
    },
    {
     "data": {
      "text/latex": [
       "$$\\frac{0.5 s^4 - 0.75 s^3 - 0.125 s^2 + 0.1875 s}{s^{12} + 3.5 s^{11} - 0.25 s^{10} - 0.875 s^9 - 3.25 s^8 - 7.25 s^7 + 18.44 s^6 + 1.812 s^5 - 1.875 s^4 + 4.25 s^3 - 27.12 s^2 - 0.4375 s + 6.562}$$"
      ],
      "text/plain": [
       "\n",
       "                                                 0.5 s^4 - 0.75 s^3 - 0.125 s^2 + 0.1875 s\n",
       "-------------------------------------------------------------------------------------------------------------------------------------------\n",
       "s^12 + 3.5 s^11 - 0.25 s^10 - 0.875 s^9 - 3.25 s^8 - 7.25 s^7 + 18.44 s^6 + 1.812 s^5 - 1.875 s^4 + 4.25 s^3 - 27.12 s^2 - 0.4375 s + 6.562"
      ]
     },
     "execution_count": 37,
     "metadata": {
      "tags": []
     },
     "output_type": "execute_result"
    }
   ],
   "source": [
    "co.minreal(Gall)"
   ]
  },
  {
   "cell_type": "markdown",
   "metadata": {
    "colab_type": "text",
    "id": "LgyAKNDPQbjf"
   },
   "source": [
    "วิธีที่ 2"
   ]
  },
  {
   "cell_type": "code",
   "execution_count": null,
   "metadata": {
    "colab": {
     "base_uri": "https://localhost:8080/",
     "height": 41
    },
    "colab_type": "code",
    "executionInfo": {
     "elapsed": 850,
     "status": "ok",
     "timestamp": 1594276366131,
     "user": {
      "displayName": "Tuchsanai Ploysuwan",
      "photoUrl": "",
      "userId": "05962105649382616878"
     },
     "user_tz": -420
    },
    "id": "N-0pkIdGQWqR",
    "outputId": "1efc3a62-7164-4c05-a6e2-4f0dfe01c498"
   },
   "outputs": [
    {
     "data": {
      "text/latex": [
       "$$\\frac{8 s^4 - 12 s^3 - 2 s^2 + 3 s}{16 s^{12} + 56 s^{11} - 4 s^{10} - 14 s^9 - 52 s^8 - 116 s^7 + 295 s^6 + 29 s^5 - 30 s^4 + 68 s^3 - 434 s^2 - 7 s + 105}$$"
      ],
      "text/plain": [
       "\n",
       "                                          8 s^4 - 12 s^3 - 2 s^2 + 3 s\n",
       "-----------------------------------------------------------------------------------------------------------------\n",
       "16 s^12 + 56 s^11 - 4 s^10 - 14 s^9 - 52 s^8 - 116 s^7 + 295 s^6 + 29 s^5 - 30 s^4 + 68 s^3 - 434 s^2 - 7 s + 105"
      ]
     },
     "execution_count": 46,
     "metadata": {
      "tags": []
     },
     "output_type": "execute_result"
    }
   ],
   "source": [
    "Gall = G1*    co.feedback( co.feedback(  co.feedback( G2*G3, H1 ,-1) ,H2,+1),H3,-1)\n",
    "Gall"
   ]
  },
  {
   "cell_type": "code",
   "execution_count": null,
   "metadata": {
    "colab": {
     "base_uri": "https://localhost:8080/",
     "height": 58
    },
    "colab_type": "code",
    "executionInfo": {
     "elapsed": 809,
     "status": "ok",
     "timestamp": 1594276368415,
     "user": {
      "displayName": "Tuchsanai Ploysuwan",
      "photoUrl": "",
      "userId": "05962105649382616878"
     },
     "user_tz": -420
    },
    "id": "Gp676kvSQz2l",
    "outputId": "37d444e9-b826-42f1-9648-6bd4f251c3d4"
   },
   "outputs": [
    {
     "name": "stdout",
     "output_type": "stream",
     "text": [
      "0 states have been removed from the model\n"
     ]
    },
    {
     "data": {
      "text/latex": [
       "$$\\frac{0.5 s^4 - 0.75 s^3 - 0.125 s^2 + 0.1875 s}{s^{12} + 3.5 s^{11} - 0.25 s^{10} - 0.875 s^9 - 3.25 s^8 - 7.25 s^7 + 18.44 s^6 + 1.812 s^5 - 1.875 s^4 + 4.25 s^3 - 27.12 s^2 - 0.4375 s + 6.562}$$"
      ],
      "text/plain": [
       "\n",
       "                                                 0.5 s^4 - 0.75 s^3 - 0.125 s^2 + 0.1875 s\n",
       "-------------------------------------------------------------------------------------------------------------------------------------------\n",
       "s^12 + 3.5 s^11 - 0.25 s^10 - 0.875 s^9 - 3.25 s^8 - 7.25 s^7 + 18.44 s^6 + 1.812 s^5 - 1.875 s^4 + 4.25 s^3 - 27.12 s^2 - 0.4375 s + 6.562"
      ]
     },
     "execution_count": 47,
     "metadata": {
      "tags": []
     },
     "output_type": "execute_result"
    }
   ],
   "source": [
    "co.minreal(Gall)"
   ]
  },
  {
   "cell_type": "markdown",
   "metadata": {
    "colab_type": "text",
    "id": "eWbDDPnpS50h"
   },
   "source": [
    "\n",
    "#แบบฝึกหัด 5. จงหา Transfer function ของระบบต่อไปนี้ \n",
    "\n",
    "กำหนดให้ \n",
    "\n",
    "![ddffgrfr](https://raw.githubusercontent.com/Tuchsanai/152-333-/master/images/2020-07-09_13-35-27.png)"
   ]
  },
  {
   "cell_type": "code",
   "execution_count": null,
   "metadata": {
    "colab": {},
    "colab_type": "code",
    "id": "-9EPC6WGQ70n"
   },
   "outputs": [],
   "source": []
  },
  {
   "cell_type": "markdown",
   "metadata": {
    "colab_type": "text",
    "id": "7F9vsAfAzBz1"
   },
   "source": [
    "#แบบฝึกหัด 6. จงหา Transfer function ของระบบต่อไปนี้ \n",
    "\n",
    "![ข้อความแสดงแทน](https://raw.githubusercontent.com/Tuchsanai/152-333-/master/images/2020-07-09_15-56-32.png)"
   ]
  },
  {
   "cell_type": "code",
   "execution_count": null,
   "metadata": {
    "colab": {},
    "colab_type": "code",
    "id": "ATc4dMMVzP7K"
   },
   "outputs": [],
   "source": []
  }
 ],
 "metadata": {
  "colab": {
   "authorship_tag": "ABX9TyOpyXYm1o+H1b+tpZbdi3rq",
   "collapsed_sections": [],
   "name": "05_TransferFunction_II.ipynb",
   "provenance": [
    {
     "file_id": "1fjPY0SDf-mI5lcHjQ3oDp9tiv54TFo-u",
     "timestamp": 1592351724675
    }
   ]
  },
  "kernelspec": {
   "display_name": "Python 3",
   "language": "python",
   "name": "python3"
  },
  "language_info": {
   "codemirror_mode": {
    "name": "ipython",
    "version": 3
   },
   "file_extension": ".py",
   "mimetype": "text/x-python",
   "name": "python",
   "nbconvert_exporter": "python",
   "pygments_lexer": "ipython3",
   "version": "3.8.5"
  }
 },
 "nbformat": 4,
 "nbformat_minor": 4
}
