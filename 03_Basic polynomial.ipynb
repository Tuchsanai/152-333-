{
 "cells": [
  {
   "cell_type": "markdown",
   "metadata": {
    "colab_type": "text",
    "id": "B4GapLpEut4g"
   },
   "source": [
    "#152-333\tElectrical Engineering Laboratory 3 \n",
    "#ปฏิบัติการทางวิศวกรรมไฟฟ้า 3"
   ]
  },
  {
   "cell_type": "markdown",
   "metadata": {
    "colab_type": "text",
    "id": "ndAVzcfVnfpE"
   },
   "source": [
    "[*ศึกษาเพิ่ม*](https://www.youtube.com/watch?v=fI9Q_haTnVI&t=87s)\n",
    "\n",
    "<iframe width=\"420\" height=\"315\"\n",
    "src=\"https://www.youtube.com/watch?v=fI9Q_haTnVI&t=87s\">\n",
    "</iframe>\n"
   ]
  },
  {
   "cell_type": "code",
   "execution_count": null,
   "metadata": {
    "colab": {},
    "colab_type": "code",
    "id": "lJaEoHjbiSF7"
   },
   "outputs": [],
   "source": [
    "import numpy as np"
   ]
  },
  {
   "cell_type": "markdown",
   "metadata": {
    "colab_type": "text",
    "id": "FP6uffwDTZR1"
   },
   "source": [
    "#Basic polynomial functions  example\n",
    "\n",
    "\n",
    "ตัวอย่างของ polynomial \n",
    "- $p(s)=a_n s^n + a_{n-1}s^{n-1} + \\dotsb + a_2 s^2 + a_1 s + a_0$\n",
    "- $p(s)=(s-p_{1})(s-p_{2})(s-p_{3}) \\dotsb (s-p_{n})$\n",
    "\n",
    "\n",
    "\n"
   ]
  },
  {
   "cell_type": "markdown",
   "metadata": {
    "colab_type": "text",
    "id": "CAWgyN2ukBv0"
   },
   "source": [
    "## ตัวอย่าง : จงสร้าง polynomial functions  จากเงือนไข\n",
    "\n",
    "\n",
    "# $p(s)=(s-1)(s-3)(s-5)$\n"
   ]
  },
  {
   "cell_type": "code",
   "execution_count": null,
   "metadata": {
    "colab": {
     "base_uri": "https://localhost:8080/",
     "height": 34
    },
    "colab_type": "code",
    "executionInfo": {
     "elapsed": 8590,
     "status": "ok",
     "timestamp": 1594044334558,
     "user": {
      "displayName": "Tuchsanai Ploysuwan",
      "photoUrl": "",
      "userId": "05962105649382616878"
     },
     "user_tz": -420
    },
    "id": "sh5_m46GRTmA",
    "outputId": "cefd9987-12ac-43a6-e597-2091dca1f9ec"
   },
   "outputs": [
    {
     "data": {
      "text/plain": [
       "array([  1.,  -9.,  23., -15.])"
      ]
     },
     "execution_count": 4,
     "metadata": {
      "tags": []
     },
     "output_type": "execute_result"
    }
   ],
   "source": [
    "np.poly([1,3,5])"
   ]
  },
  {
   "cell_type": "markdown",
   "metadata": {
    "colab_type": "text",
    "id": "N-DLnrCjk5dC"
   },
   "source": [
    "# ตัวอย่าง จงหาราก (roots) ของ  \n",
    "# $p(s)= s^3  -9s^{2} +23s-15$"
   ]
  },
  {
   "cell_type": "code",
   "execution_count": null,
   "metadata": {
    "colab": {
     "base_uri": "https://localhost:8080/",
     "height": 34
    },
    "colab_type": "code",
    "executionInfo": {
     "elapsed": 1726,
     "status": "ok",
     "timestamp": 1594097199721,
     "user": {
      "displayName": "Tuchsanai Ploysuwan",
      "photoUrl": "",
      "userId": "05962105649382616878"
     },
     "user_tz": -420
    },
    "id": "-bCtxlMAmDom",
    "outputId": "5c76daeb-a2de-4bb4-c5c4-1703eb9947a7"
   },
   "outputs": [
    {
     "data": {
      "text/plain": [
       "array([5., 3., 1.])"
      ]
     },
     "execution_count": 3,
     "metadata": {
      "tags": []
     },
     "output_type": "execute_result"
    }
   ],
   "source": [
    "np.roots([1,-9,23,-15])"
   ]
  },
  {
   "cell_type": "markdown",
   "metadata": {
    "colab_type": "text",
    "id": "MlJbHzJYoIRl"
   },
   "source": [
    "#ตัวอย่างการคูณ Polynomial\n",
    "\n",
    "# $r(s) = (s^3  -9s^{2} +23s-15)(s^2  - 1)$\n"
   ]
  },
  {
   "cell_type": "code",
   "execution_count": null,
   "metadata": {
    "colab": {
     "base_uri": "https://localhost:8080/",
     "height": 34
    },
    "colab_type": "code",
    "executionInfo": {
     "elapsed": 1342,
     "status": "ok",
     "timestamp": 1594132071231,
     "user": {
      "displayName": "Tuchsanai Ploysuwan",
      "photoUrl": "",
      "userId": "05962105649382616878"
     },
     "user_tz": -420
    },
    "id": "8sEDgh1DeVhx",
    "outputId": "f3164781-9caa-4fb7-e985-6bd51a85f87e"
   },
   "outputs": [
    {
     "data": {
      "text/plain": [
       "array([  1,  -9,  22,  -6, -23,  15])"
      ]
     },
     "execution_count": 4,
     "metadata": {
      "tags": []
     },
     "output_type": "execute_result"
    }
   ],
   "source": [
    "np.polymul([1, -9,  23, -15], [1, 0, -1])"
   ]
  },
  {
   "cell_type": "markdown",
   "metadata": {
    "colab_type": "text",
    "id": "z5Xa1p-XrdS9"
   },
   "source": [
    "#ตัวอย่างการคูณ Polynomial\n",
    "\n",
    "#$r(s) = (s^3  -9s^{2} +23s-15)(s-1)(s-3)(s-5)$\n"
   ]
  },
  {
   "cell_type": "code",
   "execution_count": null,
   "metadata": {
    "colab": {
     "base_uri": "https://localhost:8080/",
     "height": 34
    },
    "colab_type": "code",
    "executionInfo": {
     "elapsed": 1057,
     "status": "ok",
     "timestamp": 1594132181273,
     "user": {
      "displayName": "Tuchsanai Ploysuwan",
      "photoUrl": "",
      "userId": "05962105649382616878"
     },
     "user_tz": -420
    },
    "id": "1HHTQULIrMJs",
    "outputId": "d22b6e61-5b36-444d-add3-a2eaea495314"
   },
   "outputs": [
    {
     "data": {
      "text/plain": [
       "array([   1.,  -18.,  127., -444.,  799., -690.,  225.])"
      ]
     },
     "execution_count": 5,
     "metadata": {
      "tags": []
     },
     "output_type": "execute_result"
    }
   ],
   "source": [
    "np.polymul([1, -9,  23, -15], np.poly([1,3,5]))"
   ]
  },
  {
   "cell_type": "markdown",
   "metadata": {
    "colab_type": "text",
    "id": "KQLhmbZer63c"
   },
   "source": [
    "# ตัวอย่าง จงหาราก (roots) ของ  \n",
    "#$r(s) = (s^3  -9s^{2} +23s-15)(s-4)(s-8)(s+9)$"
   ]
  },
  {
   "cell_type": "code",
   "execution_count": null,
   "metadata": {
    "colab": {
     "base_uri": "https://localhost:8080/",
     "height": 51
    },
    "colab_type": "code",
    "executionInfo": {
     "elapsed": 1262,
     "status": "ok",
     "timestamp": 1594132383612,
     "user": {
      "displayName": "Tuchsanai Ploysuwan",
      "photoUrl": "",
      "userId": "05962105649382616878"
     },
     "user_tz": -420
    },
    "id": "qBAWpcz-rqy1",
    "outputId": "152f4f34-41e2-4301-ce99-847677dd933f"
   },
   "outputs": [
    {
     "data": {
      "text/plain": [
       "array([ 1.000e+00, -1.200e+01, -2.600e+01,  8.880e+02, -4.295e+03,\n",
       "        7.764e+03, -4.320e+03])"
      ]
     },
     "execution_count": 12,
     "metadata": {
      "tags": []
     },
     "output_type": "execute_result"
    }
   ],
   "source": [
    "r = np.polymul([1, -9,  23, -15], np.poly([4,8,-9]))\n",
    "r"
   ]
  },
  {
   "cell_type": "code",
   "execution_count": null,
   "metadata": {
    "colab": {
     "base_uri": "https://localhost:8080/",
     "height": 34
    },
    "colab_type": "code",
    "executionInfo": {
     "elapsed": 853,
     "status": "ok",
     "timestamp": 1594132383612,
     "user": {
      "displayName": "Tuchsanai Ploysuwan",
      "photoUrl": "",
      "userId": "05962105649382616878"
     },
     "user_tz": -420
    },
    "id": "Ti6frfZXr2BK",
    "outputId": "1cba7290-3eb2-4e57-cdfc-dd114c5cf739"
   },
   "outputs": [
    {
     "data": {
      "text/plain": [
       "array([-9.,  8.,  5.,  4.,  3.,  1.])"
      ]
     },
     "execution_count": 13,
     "metadata": {
      "tags": []
     },
     "output_type": "execute_result"
    }
   ],
   "source": [
    "np.roots(r)"
   ]
  },
  {
   "cell_type": "code",
   "execution_count": null,
   "metadata": {
    "colab": {},
    "colab_type": "code",
    "id": "YuYuIyz4sFgN"
   },
   "outputs": [],
   "source": []
  }
 ],
 "metadata": {
  "colab": {
   "authorship_tag": "ABX9TyMZO5QPoza/SwNeOENljFeC",
   "collapsed_sections": [],
   "name": "03_Basic polynomial.ipynb",
   "provenance": [
    {
     "file_id": "1fjPY0SDf-mI5lcHjQ3oDp9tiv54TFo-u",
     "timestamp": 1592351724675
    }
   ]
  },
  "kernelspec": {
   "display_name": "Python 3",
   "language": "python",
   "name": "python3"
  },
  "language_info": {
   "codemirror_mode": {
    "name": "ipython",
    "version": 3
   },
   "file_extension": ".py",
   "mimetype": "text/x-python",
   "name": "python",
   "nbconvert_exporter": "python",
   "pygments_lexer": "ipython3",
   "version": "3.8.5"
  }
 },
 "nbformat": 4,
 "nbformat_minor": 4
}
